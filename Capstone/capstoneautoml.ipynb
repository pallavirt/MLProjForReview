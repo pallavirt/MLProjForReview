{
  "cells": [
    {
      "cell_type": "markdown",
      "source": [
        "# Automated ML\n",
        "\n",
        "TODO: Import Dependencies. In the cell below, import all the dependencies that you will need to complete the project."
      ],
      "metadata": {}
    },
    {
      "cell_type": "code",
      "source": [
        "import azureml.core\r\n",
        "from azureml.core.workspace import Workspace\r\n",
        "from azureml.core.experiment import Experiment\r\n",
        "from azureml.train.automl import AutoMLConfig\r\n",
        "from azureml.core.dataset import Dataset"
      ],
      "outputs": [],
      "execution_count": 2,
      "metadata": {
        "gather": {
          "logged": 1660041674709
        },
        "jupyter": {
          "outputs_hidden": false,
          "source_hidden": false
        },
        "nteract": {
          "transient": {
            "deleting": false
          }
        }
      }
    },
    {
      "cell_type": "markdown",
      "source": [
        "**Initialize Workspace**"
      ],
      "metadata": {
        "nteract": {
          "transient": {
            "deleting": false
          }
        }
      }
    },
    {
      "cell_type": "code",
      "source": [
        "ws = Workspace.from_config()\r\n",
        "print(ws.name, ws.resource_group, ws.location, ws.subscription_id, sep = '\\n')"
      ],
      "outputs": [
        {
          "output_type": "stream",
          "name": "stdout",
          "text": "wsaug\nRGML\ncentralindia\nd18bf486-2340-49bd-9908-fbd241f929a1\n"
        }
      ],
      "execution_count": 3,
      "metadata": {
        "jupyter": {
          "source_hidden": false,
          "outputs_hidden": false
        },
        "nteract": {
          "transient": {
            "deleting": false
          }
        },
        "gather": {
          "logged": 1660041679745
        }
      }
    },
    {
      "cell_type": "markdown",
      "source": [
        "## Dataset\n",
        "\n",
        "### Overview\n",
        "TODO: In this markdown cell, give an overview of the dataset you are using. Also mention the task you will be performing.\n",
        "\n",
        "\n",
        "TODO: Get data. In the cell below, write code to access the data you will be using in this project. Remember that the dataset needs to be external."
      ],
      "metadata": {}
    },
    {
      "cell_type": "markdown",
      "source": [
        "The dataset for Fraud detection in card payment is downloaded from Kaggle. It's a single CSV file with nearly 1,50,000 records. A dataset named KaggleDSFraudDS is created in workspace based on that. This dataset is used to predict if the given transaction is legit or fraud. The model is trained using LogisticRegression algorithm."
      ],
      "metadata": {
        "nteract": {
          "transient": {
            "deleting": false
          }
        }
      }
    },
    {
      "cell_type": "code",
      "source": [
        "found = False\n",
        "key = \"KaggleDSFraudDS\"\n",
        "description_text = \"Kaggle DataSet for Udacity Course Capstone Project\"\n",
        "\n",
        "if key in ws.datasets.keys(): \n",
        "        found = True\n",
        "        dataset = ws.datasets[key] \n",
        "        df = dataset.to_pandas_dataframe()\n",
        "        df.describe()"
      ],
      "outputs": [
        {
          "output_type": "execute_result",
          "execution_count": 4,
          "data": {
            "text/plain": "       account_age_days  transaction_amt  transaction_adj_amt  \\\ncount     149892.000000    149870.000000        149886.000000   \nmean        4645.751995      2521.458944            54.202434   \nstd         1153.816155       604.524161            10.070401   \nmin            1.000000         5.000000             1.000000   \n25%         3824.000000      2103.000000            48.000000   \n50%         4667.000000      2544.000000            55.000000   \n75%         5476.000000      2951.000000            61.000000   \nmax         9119.000000      4999.000000            99.000000   \n\n       historic_velocity  billing_postal       card_bin  \\\ncount      149885.000000   149876.000000  149872.000000   \nmean         4702.200033    50190.088160   41837.521512   \nstd          1188.476704    28378.078852   10080.587192   \nmin            50.000000      503.000000    6040.000000   \n25%          3872.000000    25314.000000   35386.000000   \n50%          4730.000000    50117.000000   42086.000000   \n75%          5548.000000    74338.000000   47374.000000   \nmax          9999.000000    99950.000000   67639.000000   \n\n       days_since_last_logon  inital_amount  \ncount          149864.000000  149872.000000  \nmean               49.866392    7998.025275  \nstd                29.204766    4047.071560  \nmin                 0.000000    1000.000000  \n25%                24.000000    4487.000000  \n50%                50.000000    8002.000000  \n75%                75.000000   11494.000000  \nmax               100.000000   15000.000000  ",
            "text/html": "<div>\n<style scoped>\n    .dataframe tbody tr th:only-of-type {\n        vertical-align: middle;\n    }\n\n    .dataframe tbody tr th {\n        vertical-align: top;\n    }\n\n    .dataframe thead th {\n        text-align: right;\n    }\n</style>\n<table border=\"1\" class=\"dataframe\">\n  <thead>\n    <tr style=\"text-align: right;\">\n      <th></th>\n      <th>account_age_days</th>\n      <th>transaction_amt</th>\n      <th>transaction_adj_amt</th>\n      <th>historic_velocity</th>\n      <th>billing_postal</th>\n      <th>card_bin</th>\n      <th>days_since_last_logon</th>\n      <th>inital_amount</th>\n    </tr>\n  </thead>\n  <tbody>\n    <tr>\n      <th>count</th>\n      <td>149892.000000</td>\n      <td>149870.000000</td>\n      <td>149886.000000</td>\n      <td>149885.000000</td>\n      <td>149876.000000</td>\n      <td>149872.000000</td>\n      <td>149864.000000</td>\n      <td>149872.000000</td>\n    </tr>\n    <tr>\n      <th>mean</th>\n      <td>4645.751995</td>\n      <td>2521.458944</td>\n      <td>54.202434</td>\n      <td>4702.200033</td>\n      <td>50190.088160</td>\n      <td>41837.521512</td>\n      <td>49.866392</td>\n      <td>7998.025275</td>\n    </tr>\n    <tr>\n      <th>std</th>\n      <td>1153.816155</td>\n      <td>604.524161</td>\n      <td>10.070401</td>\n      <td>1188.476704</td>\n      <td>28378.078852</td>\n      <td>10080.587192</td>\n      <td>29.204766</td>\n      <td>4047.071560</td>\n    </tr>\n    <tr>\n      <th>min</th>\n      <td>1.000000</td>\n      <td>5.000000</td>\n      <td>1.000000</td>\n      <td>50.000000</td>\n      <td>503.000000</td>\n      <td>6040.000000</td>\n      <td>0.000000</td>\n      <td>1000.000000</td>\n    </tr>\n    <tr>\n      <th>25%</th>\n      <td>3824.000000</td>\n      <td>2103.000000</td>\n      <td>48.000000</td>\n      <td>3872.000000</td>\n      <td>25314.000000</td>\n      <td>35386.000000</td>\n      <td>24.000000</td>\n      <td>4487.000000</td>\n    </tr>\n    <tr>\n      <th>50%</th>\n      <td>4667.000000</td>\n      <td>2544.000000</td>\n      <td>55.000000</td>\n      <td>4730.000000</td>\n      <td>50117.000000</td>\n      <td>42086.000000</td>\n      <td>50.000000</td>\n      <td>8002.000000</td>\n    </tr>\n    <tr>\n      <th>75%</th>\n      <td>5476.000000</td>\n      <td>2951.000000</td>\n      <td>61.000000</td>\n      <td>5548.000000</td>\n      <td>74338.000000</td>\n      <td>47374.000000</td>\n      <td>75.000000</td>\n      <td>11494.000000</td>\n    </tr>\n    <tr>\n      <th>max</th>\n      <td>9119.000000</td>\n      <td>4999.000000</td>\n      <td>99.000000</td>\n      <td>9999.000000</td>\n      <td>99950.000000</td>\n      <td>67639.000000</td>\n      <td>100.000000</td>\n      <td>15000.000000</td>\n    </tr>\n  </tbody>\n</table>\n</div>"
          },
          "metadata": {}
        }
      ],
      "execution_count": 4,
      "metadata": {
        "gather": {
          "logged": 1660041692163
        }
      }
    },
    {
      "cell_type": "code",
      "source": [
        "# choose a name for experiment\n",
        "experiment_name = 'CapstoneExpAutoML'\n",
        "project_folder = './capstone-project'\n",
        "\n",
        "experiment=Experiment(ws, experiment_name)\n",
        "experiment"
      ],
      "outputs": [
        {
          "output_type": "execute_result",
          "execution_count": 5,
          "data": {
            "text/plain": "Experiment(Name: CapstoneExpAutoML,\nWorkspace: wsaug)",
            "text/html": "<table style=\"width:100%\"><tr><th>Name</th><th>Workspace</th><th>Report Page</th><th>Docs Page</th></tr><tr><td>CapstoneExpAutoML</td><td>wsaug</td><td><a href=\"https://ml.azure.com/experiments/id/de7a8128-ddfd-4df2-b46f-c767d53ebac8?wsid=/subscriptions/d18bf486-2340-49bd-9908-fbd241f929a1/resourcegroups/RGML/workspaces/wsaug&amp;tid=06334f6d-6d96-4027-a985-f45a67d990ca\" target=\"_blank\" rel=\"noopener\">Link to Azure Machine Learning studio</a></td><td><a href=\"https://docs.microsoft.com/en-us/python/api/azureml-core/azureml.core.experiment.Experiment?view=azure-ml-py\" target=\"_blank\" rel=\"noopener\">Link to Documentation</a></td></tr></table>"
          },
          "metadata": {}
        }
      ],
      "execution_count": 5,
      "metadata": {
        "gather": {
          "logged": 1660041702421
        },
        "jupyter": {
          "outputs_hidden": false,
          "source_hidden": false
        },
        "nteract": {
          "transient": {
            "deleting": false
          }
        }
      }
    },
    {
      "cell_type": "code",
      "source": [
        "from azureml.core.compute import AmlCompute\n",
        "from azureml.core.compute import ComputeTarget\n",
        "from azureml.core.compute_target import ComputeTargetException\n",
        "\n",
        "# NOTE: update the cluster name to match the existing cluster\n",
        "# Choose a name for your CPU cluster\n",
        "amlcompute_cluster_name = \"cluster4\"\n",
        "\n",
        "# Verify that cluster does not exist already\n",
        "try:\n",
        "    compute_target = ComputeTarget(workspace=ws, name=amlcompute_cluster_name)\n",
        "    print('Found existing cluster, use it.')\n",
        "except ComputeTargetException:\n",
        "    compute_config = AmlCompute.provisioning_configuration(vm_size='STANDARD_DS2_V2',# for GPU, use \"STANDARD_NC6\"\n",
        "                                                           #vm_priority = 'lowpriority', # optional\n",
        "                                                           max_nodes=4)\n",
        "    compute_target = ComputeTarget.create(ws, amlcompute_cluster_name, compute_config)\n",
        "\n",
        "compute_target.wait_for_completion(show_output=True, min_node_count = 1, timeout_in_minutes = 10)\n",
        "# For a more detailed view of current AmlCompute status, use get_status()."
      ],
      "outputs": [
        {
          "output_type": "stream",
          "name": "stdout",
          "text": "Found existing cluster, use it.\nSucceeded\nAmlCompute wait for completion finished\n\nMinimum number of nodes requested have been provisioned\n"
        }
      ],
      "execution_count": 6,
      "metadata": {
        "gather": {
          "logged": 1660041730539
        }
      }
    },
    {
      "cell_type": "markdown",
      "source": [
        "## AutoML Configuration\n",
        "\n",
        "TODO: Explain why you chose the automl settings and cofiguration you used below."
      ],
      "metadata": {}
    },
    {
      "cell_type": "markdown",
      "source": [
        "The automl model is trained for classification scenario. The experiment will run maximum for 20 minutes. It uses the given dataset and is trained to predict the class for column EVENT_LABEL. It uses AUC_Weighted metric for the fraud detection scenario."
      ],
      "metadata": {
        "nteract": {
          "transient": {
            "deleting": false
          }
        }
      }
    },
    {
      "cell_type": "code",
      "source": [
        "# TODO: Put your automl settings here\n",
        "automl_settings = {\n",
        "    \"experiment_timeout_minutes\": 20,\n",
        "    \"max_concurrent_iterations\": 5,\n",
        "    \"primary_metric\" : 'AUC_weighted' \n",
        "}\n",
        "\n",
        "# TODO: Put your automl config here\n",
        "automl_config = AutoMLConfig(\n",
        "compute_target=compute_target,\n",
        "                             task = \"classification\",\n",
        "                             training_data=dataset,\n",
        "                             label_column_name=\"EVENT_LABEL\",   \n",
        "                             path = project_folder,\n",
        "                             enable_early_stopping= True,\n",
        "                             featurization= 'auto',\n",
        "                             debug_log = \"automl_errors.log\",\n",
        "                             **automl_settings\n",
        ")"
      ],
      "outputs": [],
      "execution_count": 7,
      "metadata": {
        "gather": {
          "logged": 1660041744230
        },
        "jupyter": {
          "outputs_hidden": false,
          "source_hidden": false
        },
        "nteract": {
          "transient": {
            "deleting": false
          }
        }
      }
    },
    {
      "cell_type": "code",
      "source": [
        "# TODO: Submit your experiment\n",
        "remote_run = experiment.submit(automl_config)\n",
        "remote_run.wait_for_completion()"
      ],
      "outputs": [
        {
          "output_type": "stream",
          "name": "stdout",
          "text": "Submitting remote run.\n"
        },
        {
          "output_type": "display_data",
          "data": {
            "text/plain": "<IPython.core.display.HTML object>",
            "text/html": "<table style=\"width:100%\"><tr><th>Experiment</th><th>Id</th><th>Type</th><th>Status</th><th>Details Page</th><th>Docs Page</th></tr><tr><td>CapstoneExpAutoML</td><td>AutoML_b797e176-5f53-48cc-8c3d-3932a649d64a</td><td>automl</td><td>NotStarted</td><td><a href=\"https://ml.azure.com/runs/AutoML_b797e176-5f53-48cc-8c3d-3932a649d64a?wsid=/subscriptions/d18bf486-2340-49bd-9908-fbd241f929a1/resourcegroups/RGML/workspaces/wsaug&amp;tid=06334f6d-6d96-4027-a985-f45a67d990ca\" target=\"_blank\" rel=\"noopener\">Link to Azure Machine Learning studio</a></td><td><a href=\"https://docs.microsoft.com/en-us/python/api/overview/azure/ml/intro?view=azure-ml-py\" target=\"_blank\" rel=\"noopener\">Link to Documentation</a></td></tr></table>"
          },
          "metadata": {}
        }
      ],
      "execution_count": 8,
      "metadata": {
        "gather": {
          "logged": 1660041761511
        },
        "jupyter": {
          "outputs_hidden": false,
          "source_hidden": false
        },
        "nteract": {
          "transient": {
            "deleting": false
          }
        }
      }
    },
    {
      "cell_type": "markdown",
      "source": [
        "## Run Details\n",
        "\n",
        "OPTIONAL: Write about the different models trained and their performance. Why do you think some models did better than others?\n",
        "\n",
        "TODO: In the cell below, use the `RunDetails` widget to show the different experiments."
      ],
      "metadata": {}
    },
    {
      "cell_type": "code",
      "source": [
        "from azureml.widgets import RunDetails\n",
        "RunDetails(remote_run).show()\n"
      ],
      "outputs": [
        {
          "output_type": "display_data",
          "data": {
            "text/plain": "_AutoMLWidget(widget_settings={'childWidgetDisplay': 'popup', 'send_telemetry': False, 'log_level': 'INFO', 's…",
            "application/vnd.jupyter.widget-view+json": {
              "version_major": 2,
              "version_minor": 0,
              "model_id": "0e13e18a410e4c6a80152ec7d306ef63"
            }
          },
          "metadata": {}
        },
        {
          "output_type": "display_data",
          "data": {
            "application/aml.mini.widget.v1": "{\"status\": \"Completed\", \"workbench_run_details_uri\": \"https://ml.azure.com/runs/AutoML_b797e176-5f53-48cc-8c3d-3932a649d64a?wsid=/subscriptions/d18bf486-2340-49bd-9908-fbd241f929a1/resourcegroups/RGML/workspaces/wsaug&tid=06334f6d-6d96-4027-a985-f45a67d990ca\", \"run_id\": \"AutoML_b797e176-5f53-48cc-8c3d-3932a649d64a\", \"run_properties\": {\"run_id\": \"AutoML_b797e176-5f53-48cc-8c3d-3932a649d64a\", \"created_utc\": \"2022-08-09T10:42:42.279608Z\", \"properties\": {\"num_iterations\": \"1000\", \"training_type\": \"TrainFull\", \"acquisition_function\": \"EI\", \"primary_metric\": \"AUC_weighted\", \"train_split\": \"0\", \"acquisition_parameter\": \"0\", \"num_cross_validation\": null, \"target\": \"cluster4\", \"AMLSettingsJsonString\": \"{\\\"path\\\":null,\\\"name\\\":\\\"CapstoneExpAutoML\\\",\\\"subscription_id\\\":\\\"d18bf486-2340-49bd-9908-fbd241f929a1\\\",\\\"resource_group\\\":\\\"RGML\\\",\\\"workspace_name\\\":\\\"wsaug\\\",\\\"region\\\":\\\"centralindia\\\",\\\"compute_target\\\":\\\"cluster4\\\",\\\"spark_service\\\":null,\\\"azure_service\\\":\\\"remote\\\",\\\"many_models\\\":false,\\\"pipeline_fetch_max_batch_size\\\":1,\\\"enable_batch_run\\\":true,\\\"enable_run_restructure\\\":false,\\\"start_auxiliary_runs_before_parent_complete\\\":false,\\\"enable_code_generation\\\":true,\\\"iterations\\\":1000,\\\"primary_metric\\\":\\\"AUC_weighted\\\",\\\"task_type\\\":\\\"classification\\\",\\\"positive_label\\\":null,\\\"data_script\\\":null,\\\"test_size\\\":0.0,\\\"test_include_predictions_only\\\":false,\\\"validation_size\\\":0.0,\\\"n_cross_validations\\\":null,\\\"y_min\\\":null,\\\"y_max\\\":null,\\\"num_classes\\\":null,\\\"featurization\\\":\\\"auto\\\",\\\"_ignore_package_version_incompatibilities\\\":false,\\\"is_timeseries\\\":false,\\\"max_cores_per_iteration\\\":1,\\\"max_concurrent_iterations\\\":5,\\\"iteration_timeout_minutes\\\":null,\\\"mem_in_mb\\\":null,\\\"enforce_time_on_windows\\\":false,\\\"experiment_timeout_minutes\\\":20,\\\"experiment_exit_score\\\":null,\\\"partition_column_names\\\":null,\\\"whitelist_models\\\":null,\\\"blacklist_algos\\\":[\\\"TensorFlowLinearClassifier\\\",\\\"TensorFlowDNN\\\"],\\\"supported_models\\\":[\\\"TensorFlowDNN\\\",\\\"BernoulliNaiveBayes\\\",\\\"DecisionTree\\\",\\\"LinearSVM\\\",\\\"XGBoostClassifier\\\",\\\"TabnetClassifier\\\",\\\"AveragedPerceptronClassifier\\\",\\\"LogisticRegression\\\",\\\"KNN\\\",\\\"GradientBoosting\\\",\\\"SVM\\\",\\\"RandomForest\\\",\\\"ExtremeRandomTrees\\\",\\\"MultinomialNaiveBayes\\\",\\\"SGD\\\",\\\"LightGBM\\\",\\\"TensorFlowLinearClassifier\\\"],\\\"private_models\\\":[],\\\"auto_blacklist\\\":true,\\\"blacklist_samples_reached\\\":false,\\\"exclude_nan_labels\\\":true,\\\"verbosity\\\":20,\\\"_debug_log\\\":\\\"azureml_automl.log\\\",\\\"show_warnings\\\":false,\\\"model_explainability\\\":true,\\\"service_url\\\":null,\\\"sdk_url\\\":null,\\\"sdk_packages\\\":null,\\\"enable_onnx_compatible_models\\\":false,\\\"enable_split_onnx_featurizer_estimator_models\\\":false,\\\"vm_type\\\":\\\"STANDARD_DS12_V2\\\",\\\"telemetry_verbosity\\\":20,\\\"send_telemetry\\\":true,\\\"enable_dnn\\\":false,\\\"scenario\\\":\\\"SDK-1.13.0\\\",\\\"environment_label\\\":null,\\\"save_mlflow\\\":false,\\\"enable_categorical_indicators\\\":false,\\\"force_text_dnn\\\":false,\\\"enable_feature_sweeping\\\":true,\\\"enable_early_stopping\\\":true,\\\"early_stopping_n_iters\\\":10,\\\"arguments\\\":null,\\\"dataset_id\\\":\\\"bf47fd72-0a4d-4639-bd6f-ac208932cb4c\\\",\\\"hyperdrive_config\\\":null,\\\"validation_dataset_id\\\":null,\\\"run_source\\\":null,\\\"metrics\\\":null,\\\"enable_metric_confidence\\\":false,\\\"enable_ensembling\\\":true,\\\"enable_stack_ensembling\\\":true,\\\"ensemble_iterations\\\":15,\\\"enable_tf\\\":false,\\\"enable_subsampling\\\":null,\\\"subsample_seed\\\":null,\\\"enable_nimbusml\\\":false,\\\"enable_streaming\\\":false,\\\"force_streaming\\\":false,\\\"track_child_runs\\\":true,\\\"allowed_private_models\\\":[],\\\"label_column_name\\\":\\\"EVENT_LABEL\\\",\\\"weight_column_name\\\":null,\\\"cv_split_column_names\\\":null,\\\"enable_local_managed\\\":false,\\\"_local_managed_run_id\\\":null,\\\"cost_mode\\\":1,\\\"lag_length\\\":0,\\\"metric_operation\\\":\\\"maximize\\\",\\\"preprocess\\\":true}\", \"DataPrepJsonString\": \"{\\\\\\\"training_data\\\\\\\": {\\\\\\\"datasetId\\\\\\\": \\\\\\\"bf47fd72-0a4d-4639-bd6f-ac208932cb4c\\\\\\\"}, \\\\\\\"datasets\\\\\\\": 0}\", \"EnableSubsampling\": null, \"runTemplate\": \"AutoML\", \"azureml.runsource\": \"automl\", \"display_task_type\": \"classification\", \"dependencies_versions\": \"{\\\"azureml-widgets\\\": \\\"1.42.0\\\", \\\"azureml-training-tabular\\\": \\\"1.42.0\\\", \\\"azureml-train\\\": \\\"1.42.0\\\", \\\"azureml-train-restclients-hyperdrive\\\": \\\"1.42.0\\\", \\\"azureml-train-core\\\": \\\"1.42.0\\\", \\\"azureml-train-automl\\\": \\\"1.42.0\\\", \\\"azureml-train-automl-runtime\\\": \\\"1.42.0\\\", \\\"azureml-train-automl-client\\\": \\\"1.42.0\\\", \\\"azureml-tensorboard\\\": \\\"1.42.0\\\", \\\"azureml-telemetry\\\": \\\"1.42.0\\\", \\\"azureml-sdk\\\": \\\"1.42.0\\\", \\\"azureml-samples\\\": \\\"0+unknown\\\", \\\"azureml-responsibleai\\\": \\\"1.42.0\\\", \\\"azureml-pipeline\\\": \\\"1.42.0\\\", \\\"azureml-pipeline-steps\\\": \\\"1.42.0\\\", \\\"azureml-pipeline-core\\\": \\\"1.42.0\\\", \\\"azureml-opendatasets\\\": \\\"1.42.0\\\", \\\"azureml-mlflow\\\": \\\"1.42.0\\\", \\\"azureml-interpret\\\": \\\"1.42.0\\\", \\\"azureml-inference-server-http\\\": \\\"0.4.13\\\", \\\"azureml-explain-model\\\": \\\"1.42.0\\\", \\\"azureml-defaults\\\": \\\"1.42.0\\\", \\\"azureml-dataset-runtime\\\": \\\"1.42.0\\\", \\\"azureml-dataprep\\\": \\\"4.0.1\\\", \\\"azureml-dataprep-rslex\\\": \\\"2.6.1\\\", \\\"azureml-dataprep-native\\\": \\\"38.0.0\\\", \\\"azureml-datadrift\\\": \\\"1.42.0\\\", \\\"azureml-core\\\": \\\"1.42.0\\\", \\\"azureml-contrib-services\\\": \\\"1.42.0\\\", \\\"azureml-contrib-server\\\": \\\"1.42.0\\\", \\\"azureml-contrib-reinforcementlearning\\\": \\\"1.42.0\\\", \\\"azureml-contrib-pipeline-steps\\\": \\\"1.42.0\\\", \\\"azureml-contrib-notebook\\\": \\\"1.42.0\\\", \\\"azureml-contrib-fairness\\\": \\\"1.42.0\\\", \\\"azureml-contrib-dataset\\\": \\\"1.42.0\\\", \\\"azureml-contrib-automl-pipeline-steps\\\": \\\"1.42.0\\\", \\\"azureml-cli-common\\\": \\\"1.42.0\\\", \\\"azureml-automl-runtime\\\": \\\"1.42.0\\\", \\\"azureml-automl-dnn-nlp\\\": \\\"1.42.0\\\", \\\"azureml-automl-core\\\": \\\"1.42.0\\\", \\\"azureml-accel-models\\\": \\\"1.42.0\\\"}\", \"_aml_system_scenario_identification\": \"Remote.Parent\", \"ClientType\": \"SDK\", \"environment_cpu_name\": \"AzureML-AutoML\", \"environment_cpu_label\": \"prod\", \"environment_gpu_name\": \"AzureML-AutoML-GPU\", \"environment_gpu_label\": \"prod\", \"root_attribution\": \"automl\", \"attribution\": \"AutoML\", \"Orchestrator\": \"AutoML\", \"CancelUri\": \"https://centralindia.api.azureml.ms/jasmine/v1.0/subscriptions/d18bf486-2340-49bd-9908-fbd241f929a1/resourceGroups/RGML/providers/Microsoft.MachineLearningServices/workspaces/wsaug/experimentids/de7a8128-ddfd-4df2-b46f-c767d53ebac8/cancel/AutoML_b797e176-5f53-48cc-8c3d-3932a649d64a\", \"ClientSdkVersion\": \"1.43.0.post1\", \"snapshotId\": \"00000000-0000-0000-0000-000000000000\", \"SetupRunId\": \"AutoML_b797e176-5f53-48cc-8c3d-3932a649d64a_setup\", \"SetupRunContainerId\": \"dcid.AutoML_b797e176-5f53-48cc-8c3d-3932a649d64a_setup\", \"FeaturizationRunJsonPath\": \"featurizer_container.json\", \"FeaturizationRunId\": \"AutoML_b797e176-5f53-48cc-8c3d-3932a649d64a_featurize\", \"ProblemInfoJsonString\": \"{\\\"dataset_num_categorical\\\": 0, \\\"is_sparse\\\": true, \\\"subsampling\\\": false, \\\"has_extra_col\\\": true, \\\"dataset_classes\\\": 2, \\\"dataset_features\\\": 386819, \\\"dataset_samples\\\": 135000, \\\"single_frequency_class_detected\\\": false}\", \"ModelExplainRunId\": \"AutoML_b797e176-5f53-48cc-8c3d-3932a649d64a_ModelExplain\"}, \"tags\": {\"model_explain_run\": \"best_run\", \"_aml_system_automl_run_workspace_id\": \"db2a4f6e-57d2-4123-a056-93fc07edc32c\", \"_aml_system_azureml.automlComponent\": \"AutoML\", \"pipeline_id\": \"\", \"score\": \"\", \"predicted_cost\": \"\", \"fit_time\": \"\", \"training_percent\": \"\", \"iteration\": \"\", \"run_preprocessor\": \"\", \"run_algorithm\": \"\", \"_aml_system_azureml.automl_early_exit_message\": \"Experiment timeout reached, hence experiment stopped. Current experiment timeout: 0 hour(s) 20 minute(s)\", \"automl_best_child_run_id\": \"AutoML_b797e176-5f53-48cc-8c3d-3932a649d64a_1\", \"model_explain_best_run_child_id\": \"AutoML_b797e176-5f53-48cc-8c3d-3932a649d64a_1\"}, \"end_time_utc\": \"2022-08-09T11:18:20.328867Z\", \"status\": \"Completed\", \"log_files\": {}, \"log_groups\": [], \"run_duration\": \"0:35:38\", \"run_number\": \"1660041762\", \"run_queued_details\": {\"status\": \"Completed\", \"details\": null}}, \"child_runs\": [{\"run_id\": \"AutoML_b797e176-5f53-48cc-8c3d-3932a649d64a_setup\", \"run_number\": 1660041775, \"metric\": null, \"status\": \"Completed\", \"run_type\": \"azureml.scriptrun\", \"training_percent\": null, \"start_time\": \"2022-08-09T10:43:11.870524Z\", \"end_time\": \"2022-08-09T10:46:38.298516Z\", \"created_time\": \"2022-08-09T10:42:55.157649Z\", \"created_time_dt\": \"2022-08-09T10:42:55.157649Z\", \"duration\": \"0:03:43\", \"iteration\": null, \"goal\": null, \"run_name\": \"Completed\", \"run_properties\": null}, {\"run_id\": \"AutoML_b797e176-5f53-48cc-8c3d-3932a649d64a_featurize\", \"run_number\": 1660041998, \"metric\": null, \"status\": \"Completed\", \"run_type\": \"automl.featurization\", \"training_percent\": null, \"start_time\": \"2022-08-09T10:46:38.727902Z\", \"end_time\": \"2022-08-09T10:48:12.712011Z\", \"created_time\": \"2022-08-09T10:46:38.516748Z\", \"created_time_dt\": \"2022-08-09T10:46:38.516748Z\", \"duration\": \"0:01:34\", \"iteration\": null, \"goal\": null, \"run_name\": \"Completed\", \"run_properties\": null}, {\"run_id\": \"AutoML_b797e176-5f53-48cc-8c3d-3932a649d64a_0\", \"run_number\": 1660042095, \"metric\": null, \"status\": \"Completed\", \"run_type\": null, \"training_percent\": \"100\", \"start_time\": \"2022-08-09T10:51:20.130592Z\", \"end_time\": \"2022-08-09T10:53:30.280516Z\", \"created_time\": \"2022-08-09T10:48:15.434133Z\", \"created_time_dt\": \"2022-08-09T10:48:15.434133Z\", \"duration\": \"0:05:14\", \"iteration\": \"0\", \"goal\": \"AUC_weighted_max\", \"run_name\": \"MaxAbsScaler, LightGBM\", \"run_properties\": \"copy=True\", \"primary_metric\": 0.95590162, \"best_metric\": 0.95590162}, {\"run_id\": \"AutoML_b797e176-5f53-48cc-8c3d-3932a649d64a_2\", \"run_number\": 1660042096, \"metric\": null, \"status\": \"Canceled\", \"run_type\": null, \"training_percent\": \"100\", \"start_time\": \"2022-08-09T10:56:03.678051Z\", \"end_time\": \"2022-08-09T11:12:47.21406Z\", \"created_time\": \"2022-08-09T10:48:16.762437Z\", \"created_time_dt\": \"2022-08-09T10:48:16.762437Z\", \"duration\": \"0:24:30\", \"iteration\": \"2\", \"goal\": null, \"run_name\": \"MaxAbsScaler, ExtremeRandomTrees\", \"run_properties\": null}, {\"run_id\": \"AutoML_b797e176-5f53-48cc-8c3d-3932a649d64a_3\", \"run_number\": 1660042097, \"metric\": null, \"status\": \"Canceled\", \"run_type\": null, \"training_percent\": \"100\", \"start_time\": \"2022-08-09T10:48:17.403945Z\", \"end_time\": \"2022-08-09T11:12:46.971079Z\", \"created_time\": \"2022-08-09T10:48:17.403945Z\", \"created_time_dt\": \"2022-08-09T10:48:17.403945Z\", \"duration\": \"0:24:29\", \"iteration\": \"3\", \"goal\": null, \"run_name\": \"Canceled\", \"run_properties\": null}, {\"run_id\": \"AutoML_b797e176-5f53-48cc-8c3d-3932a649d64a_4\", \"run_number\": 1660042098, \"metric\": null, \"status\": \"Completed\", \"run_type\": null, \"training_percent\": \"100\", \"start_time\": \"2022-08-09T10:48:38.798396Z\", \"end_time\": \"2022-08-09T10:48:59.486091Z\", \"created_time\": \"2022-08-09T10:48:18.632692Z\", \"created_time_dt\": \"2022-08-09T10:48:18.632692Z\", \"duration\": \"0:00:40\", \"iteration\": \"4\", \"goal\": \"AUC_weighted_max\", \"run_name\": \"StandardScalerWrapper, LightGBM\", \"run_properties\": \"copy=True, with_mean=False, with_std=True\", \"primary_metric\": 0.92035649, \"best_metric\": 0.95590162}, {\"run_id\": \"AutoML_b797e176-5f53-48cc-8c3d-3932a649d64a_6\", \"run_number\": 1660042099, \"metric\": null, \"status\": \"Completed\", \"run_type\": null, \"training_percent\": \"100\", \"start_time\": \"2022-08-09T10:49:46.916951Z\", \"end_time\": \"2022-08-09T10:50:20.666626Z\", \"created_time\": \"2022-08-09T10:48:19.418186Z\", \"created_time_dt\": \"2022-08-09T10:48:19.418186Z\", \"duration\": \"0:02:01\", \"iteration\": \"6\", \"goal\": \"AUC_weighted_max\", \"run_name\": \"SparseNormalizer, RandomForest\", \"run_properties\": \"copy=True, norm='l2'\", \"primary_metric\": 0.67188744, \"best_metric\": 0.95590162}, {\"run_id\": \"AutoML_b797e176-5f53-48cc-8c3d-3932a649d64a_8\", \"run_number\": 1660042100, \"metric\": null, \"status\": \"Canceled\", \"run_type\": null, \"training_percent\": \"100\", \"start_time\": \"2022-08-09T10:48:20.191621Z\", \"end_time\": \"2022-08-09T11:12:47.013957Z\", \"created_time\": \"2022-08-09T10:48:20.191621Z\", \"created_time_dt\": \"2022-08-09T10:48:20.191621Z\", \"duration\": \"0:24:26\", \"iteration\": \"8\", \"goal\": null, \"run_name\": \"Canceled\", \"run_properties\": null}, {\"run_id\": \"AutoML_b797e176-5f53-48cc-8c3d-3932a649d64a_11\", \"run_number\": 1660042101, \"metric\": null, \"status\": \"Canceled\", \"run_type\": null, \"training_percent\": \"100\", \"start_time\": \"2022-08-09T10:48:21.439786Z\", \"end_time\": \"2022-08-09T11:12:46.713716Z\", \"created_time\": \"2022-08-09T10:48:21.439786Z\", \"created_time_dt\": \"2022-08-09T10:48:21.439786Z\", \"duration\": \"0:24:25\", \"iteration\": \"11\", \"goal\": null, \"run_name\": \"Canceled\", \"run_properties\": null}, {\"run_id\": \"AutoML_b797e176-5f53-48cc-8c3d-3932a649d64a_13\", \"run_number\": 1660042102, \"metric\": null, \"status\": \"Canceled\", \"run_type\": null, \"training_percent\": \"100\", \"start_time\": \"2022-08-09T10:48:22.353905Z\", \"end_time\": \"2022-08-09T11:12:47.05518Z\", \"created_time\": \"2022-08-09T10:48:22.353905Z\", \"created_time_dt\": \"2022-08-09T10:48:22.353905Z\", \"duration\": \"0:24:24\", \"iteration\": \"13\", \"goal\": null, \"run_name\": \"Canceled\", \"run_properties\": null}, {\"run_id\": \"AutoML_b797e176-5f53-48cc-8c3d-3932a649d64a_15\", \"run_number\": 1660042103, \"metric\": null, \"status\": \"Canceled\", \"run_type\": null, \"training_percent\": \"100\", \"start_time\": \"2022-08-09T10:48:23.13959Z\", \"end_time\": \"2022-08-09T11:12:47.095693Z\", \"created_time\": \"2022-08-09T10:48:23.13959Z\", \"created_time_dt\": \"2022-08-09T10:48:23.13959Z\", \"duration\": \"0:24:23\", \"iteration\": \"15\", \"goal\": null, \"run_name\": \"Canceled\", \"run_properties\": null}, {\"run_id\": \"AutoML_b797e176-5f53-48cc-8c3d-3932a649d64a_18\", \"run_number\": 1660042104, \"metric\": null, \"status\": \"Canceled\", \"run_type\": null, \"training_percent\": \"100\", \"start_time\": \"2022-08-09T10:48:24.209513Z\", \"end_time\": \"2022-08-09T11:12:47.13362Z\", \"created_time\": \"2022-08-09T10:48:24.209513Z\", \"created_time_dt\": \"2022-08-09T10:48:24.209513Z\", \"duration\": \"0:24:22\", \"iteration\": \"18\", \"goal\": null, \"run_name\": \"Canceled\", \"run_properties\": null}, {\"run_id\": \"AutoML_b797e176-5f53-48cc-8c3d-3932a649d64a_21\", \"run_number\": 1660043568, \"metric\": null, \"status\": \"Completed\", \"run_type\": \"azureml.scriptrun\", \"training_percent\": \"100\", \"start_time\": \"2022-08-09T11:12:57.03211Z\", \"end_time\": \"2022-08-09T11:17:19.899727Z\", \"created_time\": \"2022-08-09T11:12:48.68743Z\", \"created_time_dt\": \"2022-08-09T11:12:48.68743Z\", \"duration\": \"0:04:31\", \"iteration\": \"21\", \"goal\": \"AUC_weighted_max\", \"run_name\": \"StackEnsemble\", \"run_properties\": \"base_learners=[('1', Pipeline(memory=None, steps=[('maxabsscaler', MaxAbsScaler(copy=True\", \"primary_metric\": 0.95561633, \"best_metric\": 0.95590162}], \"children_metrics\": {\"categories\": [0], \"series\": {\"weighted_accuracy\": [{\"categories\": [\"0\", \"4\", \"6\", \"21\"], \"mode\": \"markers\", \"name\": \"weighted_accuracy\", \"stepped\": false, \"type\": \"scatter\", \"data\": [0.9956795610433069, 0.9967339588380603, 0.5342299994958675, 0.9954687528238552]}, {\"categories\": [\"0\", \"4\", \"6\", \"21\"], \"mode\": \"lines\", \"name\": \"weighted_accuracy_max\", \"stepped\": true, \"type\": \"scatter\", \"data\": [0.9956795610433069, 0.9967339588380603, 0.9967339588380603, 0.9967339588380603]}], \"AUC_weighted\": [{\"categories\": [\"0\", \"4\", \"6\", \"21\"], \"mode\": \"markers\", \"name\": \"AUC_weighted\", \"stepped\": false, \"type\": \"scatter\", \"data\": [0.9559016200247725, 0.9203564859742542, 0.6718874415248332, 0.955616328948387]}, {\"categories\": [\"0\", \"4\", \"6\", \"21\"], \"mode\": \"lines\", \"name\": \"AUC_weighted_max\", \"stepped\": true, \"type\": \"scatter\", \"data\": [0.9559016200247725, 0.9559016200247725, 0.9559016200247725, 0.9559016200247725]}], \"precision_score_weighted\": [{\"categories\": [\"0\", \"4\", \"6\", \"21\"], \"mode\": \"markers\", \"name\": \"precision_score_weighted\", \"stepped\": false, \"type\": \"scatter\", \"data\": [0.9815890953383707, 0.9515231140939597, 0.9218911242835772, 0.9813543714891418]}, {\"categories\": [\"0\", \"4\", \"6\", \"21\"], \"mode\": \"lines\", \"name\": \"precision_score_weighted_max\", \"stepped\": true, \"type\": \"scatter\", \"data\": [0.9815890953383707, 0.9815890953383707, 0.9815890953383707, 0.9815890953383707]}], \"AUC_micro\": [{\"categories\": [\"0\", \"4\", \"6\", \"21\"], \"mode\": \"markers\", \"name\": \"AUC_micro\", \"stepped\": false, \"type\": \"scatter\", \"data\": [0.9946336266666669, 0.9889698977777778, 0.6249376488888889, 0.9947472044444444]}, {\"categories\": [\"0\", \"4\", \"6\", \"21\"], \"mode\": \"lines\", \"name\": \"AUC_micro_max\", \"stepped\": true, \"type\": \"scatter\", \"data\": [0.9946336266666669, 0.9946336266666669, 0.9946336266666669, 0.9947472044444444]}], \"matthews_correlation\": [{\"categories\": [\"0\", \"4\", \"6\", \"21\"], \"mode\": \"markers\", \"name\": \"matthews_correlation\", \"stepped\": false, \"type\": \"scatter\", \"data\": [0.8150584101703973, 0.32349514641586674, 0.11318343520208111, 0.813027797387263]}, {\"categories\": [\"0\", \"4\", \"6\", \"21\"], \"mode\": \"lines\", \"name\": \"matthews_correlation_max\", \"stepped\": true, \"type\": \"scatter\", \"data\": [0.8150584101703973, 0.8150584101703973, 0.8150584101703973, 0.8150584101703973]}], \"accuracy\": [{\"categories\": [\"0\", \"4\", \"6\", \"21\"], \"mode\": \"markers\", \"name\": \"accuracy\", \"stepped\": false, \"type\": \"scatter\", \"data\": [0.9822666666666666, 0.9516, 0.5435333333333333, 0.9820666666666666]}, {\"categories\": [\"0\", \"4\", \"6\", \"21\"], \"mode\": \"lines\", \"name\": \"accuracy_max\", \"stepped\": true, \"type\": \"scatter\", \"data\": [0.9822666666666666, 0.9822666666666666, 0.9822666666666666, 0.9822666666666666]}], \"norm_macro_recall\": [{\"categories\": [\"0\", \"4\", \"6\", \"21\"], \"mode\": \"markers\", \"name\": \"norm_macro_recall\", \"stepped\": false, \"type\": \"scatter\", \"data\": [0.7306140307222719, 0.11606905875717466, 0.24931571613416947, 0.7304025248001063]}, {\"categories\": [\"0\", \"4\", \"6\", \"21\"], \"mode\": \"lines\", \"name\": \"norm_macro_recall_max\", \"stepped\": true, \"type\": \"scatter\", \"data\": [0.7306140307222719, 0.7306140307222719, 0.7306140307222719, 0.7306140307222719]}], \"recall_score_micro\": [{\"categories\": [\"0\", \"4\", \"6\", \"21\"], \"mode\": \"markers\", \"name\": \"recall_score_micro\", \"stepped\": false, \"type\": \"scatter\", \"data\": [0.9822666666666666, 0.9516, 0.5435333333333333, 0.9820666666666666]}, {\"categories\": [\"0\", \"4\", \"6\", \"21\"], \"mode\": \"lines\", \"name\": \"recall_score_micro_max\", \"stepped\": true, \"type\": \"scatter\", \"data\": [0.9822666666666666, 0.9822666666666666, 0.9822666666666666, 0.9822666666666666]}], \"f1_score_macro\": [{\"categories\": [\"0\", \"4\", \"6\", \"21\"], \"mode\": \"markers\", \"name\": \"f1_score_macro\", \"stepped\": false, \"type\": \"scatter\", \"data\": [0.9044922260980665, 0.5912307011343141, 0.41714357219966947, 0.90360245163692]}, {\"categories\": [\"0\", \"4\", \"6\", \"21\"], \"mode\": \"lines\", \"name\": \"f1_score_macro_max\", \"stepped\": true, \"type\": \"scatter\", \"data\": [0.9044922260980665, 0.9044922260980665, 0.9044922260980665, 0.9044922260980665]}], \"average_precision_score_macro\": [{\"categories\": [\"0\", \"4\", \"6\", \"21\"], \"mode\": \"markers\", \"name\": \"average_precision_score_macro\", \"stepped\": false, \"type\": \"scatter\", \"data\": [0.9320694326036978, 0.8250050816850429, 0.5400236149833579, 0.9338182087905768]}, {\"categories\": [\"0\", \"4\", \"6\", \"21\"], \"mode\": \"lines\", \"name\": \"average_precision_score_macro_max\", \"stepped\": true, \"type\": \"scatter\", \"data\": [0.9320694326036978, 0.9320694326036978, 0.9320694326036978, 0.9338182087905768]}], \"average_precision_score_micro\": [{\"categories\": [\"0\", \"4\", \"6\", \"21\"], \"mode\": \"markers\", \"name\": \"average_precision_score_micro\", \"stepped\": false, \"type\": \"scatter\", \"data\": [0.9930636921836433, 0.9876494441341094, 0.6599992046037091, 0.993744023561497]}, {\"categories\": [\"0\", \"4\", \"6\", \"21\"], \"mode\": \"lines\", \"name\": \"average_precision_score_micro_max\", \"stepped\": true, \"type\": \"scatter\", \"data\": [0.9930636921836433, 0.9930636921836433, 0.9930636921836433, 0.993744023561497]}], \"f1_score_weighted\": [{\"categories\": [\"0\", \"4\", \"6\", \"21\"], \"mode\": \"markers\", \"name\": \"f1_score_weighted\", \"stepped\": false, \"type\": \"scatter\", \"data\": [0.9813013810567726, 0.9332796067887082, 0.6590302331638526, 0.9811099981172019]}, {\"categories\": [\"0\", \"4\", \"6\", \"21\"], \"mode\": \"lines\", \"name\": \"f1_score_weighted_max\", \"stepped\": true, \"type\": \"scatter\", \"data\": [0.9813013810567726, 0.9813013810567726, 0.9813013810567726, 0.9813013810567726]}], \"balanced_accuracy\": [{\"categories\": [\"0\", \"4\", \"6\", \"21\"], \"mode\": \"markers\", \"name\": \"balanced_accuracy\", \"stepped\": false, \"type\": \"scatter\", \"data\": [0.865307015361136, 0.5580345293785873, 0.6246578580670847, 0.8652012624000531]}, {\"categories\": [\"0\", \"4\", \"6\", \"21\"], \"mode\": \"lines\", \"name\": \"balanced_accuracy_max\", \"stepped\": true, \"type\": \"scatter\", \"data\": [0.865307015361136, 0.865307015361136, 0.865307015361136, 0.865307015361136]}], \"recall_score_weighted\": [{\"categories\": [\"0\", \"4\", \"6\", \"21\"], \"mode\": \"markers\", \"name\": \"recall_score_weighted\", \"stepped\": false, \"type\": \"scatter\", \"data\": [0.9822666666666666, 0.9516, 0.5435333333333333, 0.9820666666666666]}, {\"categories\": [\"0\", \"4\", \"6\", \"21\"], \"mode\": \"lines\", \"name\": \"recall_score_weighted_max\", \"stepped\": true, \"type\": \"scatter\", \"data\": [0.9822666666666666, 0.9822666666666666, 0.9822666666666666, 0.9822666666666666]}], \"log_loss\": [{\"categories\": [\"0\", \"4\", \"6\", \"21\"], \"mode\": \"markers\", \"name\": \"log_loss\", \"stepped\": false, \"type\": \"scatter\", \"data\": [0.06546051569484161, 0.1285940166374963, 0.6908810489834442, 0.06700781892091842]}, {\"categories\": [\"0\", \"4\", \"6\", \"21\"], \"mode\": \"lines\", \"name\": \"log_loss_min\", \"stepped\": true, \"type\": \"scatter\", \"data\": [0.06546051569484161, 0.06546051569484161, 0.06546051569484161, 0.06546051569484161]}], \"recall_score_macro\": [{\"categories\": [\"0\", \"4\", \"6\", \"21\"], \"mode\": \"markers\", \"name\": \"recall_score_macro\", \"stepped\": false, \"type\": \"scatter\", \"data\": [0.865307015361136, 0.5580345293785873, 0.6246578580670847, 0.8652012624000531]}, {\"categories\": [\"0\", \"4\", \"6\", \"21\"], \"mode\": \"lines\", \"name\": \"recall_score_macro_max\", \"stepped\": true, \"type\": \"scatter\", \"data\": [0.865307015361136, 0.865307015361136, 0.865307015361136, 0.865307015361136]}], \"precision_score_micro\": [{\"categories\": [\"0\", \"4\", \"6\", \"21\"], \"mode\": \"markers\", \"name\": \"precision_score_micro\", \"stepped\": false, \"type\": \"scatter\", \"data\": [0.9822666666666666, 0.9516, 0.5435333333333333, 0.9820666666666666]}, {\"categories\": [\"0\", \"4\", \"6\", \"21\"], \"mode\": \"lines\", \"name\": \"precision_score_micro_max\", \"stepped\": true, \"type\": \"scatter\", \"data\": [0.9822666666666666, 0.9822666666666666, 0.9822666666666666, 0.9822666666666666]}], \"AUC_macro\": [{\"categories\": [\"0\", \"4\", \"6\", \"21\"], \"mode\": \"markers\", \"name\": \"AUC_macro\", \"stepped\": false, \"type\": \"scatter\", \"data\": [0.9559016200247725, 0.9203564859742543, 0.6718874415248333, 0.955616328948387]}, {\"categories\": [\"0\", \"4\", \"6\", \"21\"], \"mode\": \"lines\", \"name\": \"AUC_macro_max\", \"stepped\": true, \"type\": \"scatter\", \"data\": [0.9559016200247725, 0.9559016200247725, 0.9559016200247725, 0.9559016200247725]}], \"f1_score_micro\": [{\"categories\": [\"0\", \"4\", \"6\", \"21\"], \"mode\": \"markers\", \"name\": \"f1_score_micro\", \"stepped\": false, \"type\": \"scatter\", \"data\": [0.9822666666666666, 0.9516, 0.5435333333333333, 0.9820666666666666]}, {\"categories\": [\"0\", \"4\", \"6\", \"21\"], \"mode\": \"lines\", \"name\": \"f1_score_micro_max\", \"stepped\": true, \"type\": \"scatter\", \"data\": [0.9822666666666666, 0.9822666666666666, 0.9822666666666666, 0.9822666666666666]}], \"precision_score_macro\": [{\"categories\": [\"0\", \"4\", \"6\", \"21\"], \"mode\": \"markers\", \"name\": \"precision_score_macro\", \"stepped\": false, \"type\": \"scatter\", \"data\": [0.9546314360625955, 0.9508053691275167, 0.5256913005781989, 0.9524999413886803]}, {\"categories\": [\"0\", \"4\", \"6\", \"21\"], \"mode\": \"lines\", \"name\": \"precision_score_macro_max\", \"stepped\": true, \"type\": \"scatter\", \"data\": [0.9546314360625955, 0.9546314360625955, 0.9546314360625955, 0.9546314360625955]}], \"average_precision_score_weighted\": [{\"categories\": [\"0\", \"4\", \"6\", \"21\"], \"mode\": \"markers\", \"name\": \"average_precision_score_weighted\", \"stepped\": false, \"type\": \"scatter\", \"data\": [0.9881730449109751, 0.9745062414226469, 0.9238755384885258, 0.9884535288130534]}, {\"categories\": [\"0\", \"4\", \"6\", \"21\"], \"mode\": \"lines\", \"name\": \"average_precision_score_weighted_max\", \"stepped\": true, \"type\": \"scatter\", \"data\": [0.9881730449109751, 0.9881730449109751, 0.9881730449109751, 0.9884535288130534]}]}, \"metricName\": null, \"primaryMetricName\": \"AUC_weighted\", \"showLegend\": false}, \"run_metrics\": [{\"name\": \"experiment_status\", \"run_id\": \"AutoML_b797e176-5f53-48cc-8c3d-3932a649d64a\", \"categories\": [0, 1, 2, 3, 4, 5, 6, 7, 8, 9, 10, 11, 12, 13], \"series\": [{\"data\": [\"DatasetEvaluation\", \"FeaturesGeneration\", \"DatasetFeaturization\", \"DatasetFeaturizationCompleted\", \"DatasetBalancing\", \"ModelSelection\", \"BestRunExplainModel\", \"ModelExplanationDataSetSetup\", \"PickSurrogateModel\", \"EngineeredFeatureExplanations\", \"EngineeredFeatureExplanations\", \"RawFeaturesExplanations\", \"RawFeaturesExplanations\", \"BestRunExplainModel\"]}]}, {\"name\": \"experiment_status_description\", \"run_id\": \"AutoML_b797e176-5f53-48cc-8c3d-3932a649d64a\", \"categories\": [0, 1, 2, 3, 4, 5, 6, 7, 8, 9, 10, 11, 12, 13], \"series\": [{\"data\": [\"Gathering dataset statistics.\", \"Generating features for the dataset.\", \"Beginning to fit featurizers and featurize the dataset.\", \"Completed fit featurizers and featurizing the dataset.\", \"Performing class balancing sweeping\", \"Beginning model selection.\", \"Best run model explanations started\", \"Model explanations data setup completed\", \"Choosing LightGBM as the surrogate model for explanations\", \"Computation of engineered features started\", \"Computation of engineered features completed\", \"Computation of raw features started\", \"Computation of raw features completed\", \"Best run model explanations completed\"]}]}], \"run_logs\": \"\\nRun is completed.\", \"graph\": {}, \"widget_settings\": {\"childWidgetDisplay\": \"popup\", \"send_telemetry\": false, \"log_level\": \"INFO\", \"sdk_version\": \"1.42.0\"}, \"loading\": false}"
          },
          "metadata": {}
        },
        {
          "output_type": "execute_result",
          "execution_count": 9,
          "data": {
            "text/plain": "{'runId': 'AutoML_b797e176-5f53-48cc-8c3d-3932a649d64a',\n 'target': 'cluster4',\n 'status': 'Completed',\n 'startTimeUtc': '2022-08-09T10:42:57.000772Z',\n 'endTimeUtc': '2022-08-09T11:18:20.328867Z',\n 'services': {},\n 'warnings': [{'source': 'JasmineService',\n   'message': 'Experiment timeout reached, hence experiment stopped. Current experiment timeout: 0 hour(s) 20 minute(s)'}],\n 'properties': {'num_iterations': '1000',\n  'training_type': 'TrainFull',\n  'acquisition_function': 'EI',\n  'primary_metric': 'AUC_weighted',\n  'train_split': '0',\n  'acquisition_parameter': '0',\n  'num_cross_validation': None,\n  'target': 'cluster4',\n  'AMLSettingsJsonString': '{\"path\":null,\"name\":\"CapstoneExpAutoML\",\"subscription_id\":\"d18bf486-2340-49bd-9908-fbd241f929a1\",\"resource_group\":\"RGML\",\"workspace_name\":\"wsaug\",\"region\":\"centralindia\",\"compute_target\":\"cluster4\",\"spark_service\":null,\"azure_service\":\"remote\",\"many_models\":false,\"pipeline_fetch_max_batch_size\":1,\"enable_batch_run\":true,\"enable_run_restructure\":false,\"start_auxiliary_runs_before_parent_complete\":false,\"enable_code_generation\":true,\"iterations\":1000,\"primary_metric\":\"AUC_weighted\",\"task_type\":\"classification\",\"positive_label\":null,\"data_script\":null,\"test_size\":0.0,\"test_include_predictions_only\":false,\"validation_size\":0.0,\"n_cross_validations\":null,\"y_min\":null,\"y_max\":null,\"num_classes\":null,\"featurization\":\"auto\",\"_ignore_package_version_incompatibilities\":false,\"is_timeseries\":false,\"max_cores_per_iteration\":1,\"max_concurrent_iterations\":5,\"iteration_timeout_minutes\":null,\"mem_in_mb\":null,\"enforce_time_on_windows\":false,\"experiment_timeout_minutes\":20,\"experiment_exit_score\":null,\"partition_column_names\":null,\"whitelist_models\":null,\"blacklist_algos\":[\"TensorFlowLinearClassifier\",\"TensorFlowDNN\"],\"supported_models\":[\"TensorFlowDNN\",\"BernoulliNaiveBayes\",\"DecisionTree\",\"LinearSVM\",\"XGBoostClassifier\",\"TabnetClassifier\",\"AveragedPerceptronClassifier\",\"LogisticRegression\",\"KNN\",\"GradientBoosting\",\"SVM\",\"RandomForest\",\"ExtremeRandomTrees\",\"MultinomialNaiveBayes\",\"SGD\",\"LightGBM\",\"TensorFlowLinearClassifier\"],\"private_models\":[],\"auto_blacklist\":true,\"blacklist_samples_reached\":false,\"exclude_nan_labels\":true,\"verbosity\":20,\"_debug_log\":\"azureml_automl.log\",\"show_warnings\":false,\"model_explainability\":true,\"service_url\":null,\"sdk_url\":null,\"sdk_packages\":null,\"enable_onnx_compatible_models\":false,\"enable_split_onnx_featurizer_estimator_models\":false,\"vm_type\":\"STANDARD_DS12_V2\",\"telemetry_verbosity\":20,\"send_telemetry\":true,\"enable_dnn\":false,\"scenario\":\"SDK-1.13.0\",\"environment_label\":null,\"save_mlflow\":false,\"enable_categorical_indicators\":false,\"force_text_dnn\":false,\"enable_feature_sweeping\":true,\"enable_early_stopping\":true,\"early_stopping_n_iters\":10,\"arguments\":null,\"dataset_id\":\"bf47fd72-0a4d-4639-bd6f-ac208932cb4c\",\"hyperdrive_config\":null,\"validation_dataset_id\":null,\"run_source\":null,\"metrics\":null,\"enable_metric_confidence\":false,\"enable_ensembling\":true,\"enable_stack_ensembling\":true,\"ensemble_iterations\":15,\"enable_tf\":false,\"enable_subsampling\":null,\"subsample_seed\":null,\"enable_nimbusml\":false,\"enable_streaming\":false,\"force_streaming\":false,\"track_child_runs\":true,\"allowed_private_models\":[],\"label_column_name\":\"EVENT_LABEL\",\"weight_column_name\":null,\"cv_split_column_names\":null,\"enable_local_managed\":false,\"_local_managed_run_id\":null,\"cost_mode\":1,\"lag_length\":0,\"metric_operation\":\"maximize\",\"preprocess\":true}',\n  'DataPrepJsonString': '{\\\\\"training_data\\\\\": {\\\\\"datasetId\\\\\": \\\\\"bf47fd72-0a4d-4639-bd6f-ac208932cb4c\\\\\"}, \\\\\"datasets\\\\\": 0}',\n  'EnableSubsampling': None,\n  'runTemplate': 'AutoML',\n  'azureml.runsource': 'automl',\n  'display_task_type': 'classification',\n  'dependencies_versions': '{\"azureml-widgets\": \"1.42.0\", \"azureml-training-tabular\": \"1.42.0\", \"azureml-train\": \"1.42.0\", \"azureml-train-restclients-hyperdrive\": \"1.42.0\", \"azureml-train-core\": \"1.42.0\", \"azureml-train-automl\": \"1.42.0\", \"azureml-train-automl-runtime\": \"1.42.0\", \"azureml-train-automl-client\": \"1.42.0\", \"azureml-tensorboard\": \"1.42.0\", \"azureml-telemetry\": \"1.42.0\", \"azureml-sdk\": \"1.42.0\", \"azureml-samples\": \"0+unknown\", \"azureml-responsibleai\": \"1.42.0\", \"azureml-pipeline\": \"1.42.0\", \"azureml-pipeline-steps\": \"1.42.0\", \"azureml-pipeline-core\": \"1.42.0\", \"azureml-opendatasets\": \"1.42.0\", \"azureml-mlflow\": \"1.42.0\", \"azureml-interpret\": \"1.42.0\", \"azureml-inference-server-http\": \"0.4.13\", \"azureml-explain-model\": \"1.42.0\", \"azureml-defaults\": \"1.42.0\", \"azureml-dataset-runtime\": \"1.42.0\", \"azureml-dataprep\": \"4.0.1\", \"azureml-dataprep-rslex\": \"2.6.1\", \"azureml-dataprep-native\": \"38.0.0\", \"azureml-datadrift\": \"1.42.0\", \"azureml-core\": \"1.42.0\", \"azureml-contrib-services\": \"1.42.0\", \"azureml-contrib-server\": \"1.42.0\", \"azureml-contrib-reinforcementlearning\": \"1.42.0\", \"azureml-contrib-pipeline-steps\": \"1.42.0\", \"azureml-contrib-notebook\": \"1.42.0\", \"azureml-contrib-fairness\": \"1.42.0\", \"azureml-contrib-dataset\": \"1.42.0\", \"azureml-contrib-automl-pipeline-steps\": \"1.42.0\", \"azureml-cli-common\": \"1.42.0\", \"azureml-automl-runtime\": \"1.42.0\", \"azureml-automl-dnn-nlp\": \"1.42.0\", \"azureml-automl-core\": \"1.42.0\", \"azureml-accel-models\": \"1.42.0\"}',\n  '_aml_system_scenario_identification': 'Remote.Parent',\n  'ClientType': 'SDK',\n  'environment_cpu_name': 'AzureML-AutoML',\n  'environment_cpu_label': 'prod',\n  'environment_gpu_name': 'AzureML-AutoML-GPU',\n  'environment_gpu_label': 'prod',\n  'root_attribution': 'automl',\n  'attribution': 'AutoML',\n  'Orchestrator': 'AutoML',\n  'CancelUri': 'https://centralindia.api.azureml.ms/jasmine/v1.0/subscriptions/d18bf486-2340-49bd-9908-fbd241f929a1/resourceGroups/RGML/providers/Microsoft.MachineLearningServices/workspaces/wsaug/experimentids/de7a8128-ddfd-4df2-b46f-c767d53ebac8/cancel/AutoML_b797e176-5f53-48cc-8c3d-3932a649d64a',\n  'ClientSdkVersion': '1.43.0.post1',\n  'snapshotId': '00000000-0000-0000-0000-000000000000',\n  'SetupRunId': 'AutoML_b797e176-5f53-48cc-8c3d-3932a649d64a_setup',\n  'SetupRunContainerId': 'dcid.AutoML_b797e176-5f53-48cc-8c3d-3932a649d64a_setup',\n  'FeaturizationRunJsonPath': 'featurizer_container.json',\n  'FeaturizationRunId': 'AutoML_b797e176-5f53-48cc-8c3d-3932a649d64a_featurize',\n  'ProblemInfoJsonString': '{\"dataset_num_categorical\": 0, \"is_sparse\": true, \"subsampling\": false, \"has_extra_col\": true, \"dataset_classes\": 2, \"dataset_features\": 386819, \"dataset_samples\": 135000, \"single_frequency_class_detected\": false}',\n  'ModelExplainRunId': 'AutoML_b797e176-5f53-48cc-8c3d-3932a649d64a_ModelExplain'},\n 'inputDatasets': [{'dataset': {'id': 'bf47fd72-0a4d-4639-bd6f-ac208932cb4c'}, 'consumptionDetails': {'type': 'RunInput', 'inputName': 'training_data', 'mechanism': 'Direct'}}],\n 'outputDatasets': [],\n 'logFiles': {},\n 'submittedBy': 'Pallavi T'}"
          },
          "metadata": {}
        }
      ],
      "execution_count": 9,
      "metadata": {
        "gather": {
          "logged": 1660043903416
        },
        "jupyter": {
          "outputs_hidden": false,
          "source_hidden": false
        },
        "nteract": {
          "transient": {
            "deleting": false
          }
        }
      }
    },
    {
      "cell_type": "markdown",
      "source": [
        "## Best Model\n",
        "\n",
        "TODO: In the cell below, get the best model from the automl experiments and display all the properties of the model.\n",
        "\n"
      ],
      "metadata": {}
    },
    {
      "cell_type": "code",
      "source": [
        "best_run_auto=remote_run.get_best_child()\n",
        "best_run_model_name=best_run_auto.properties[\"model_name\"]\n",
        "best_run_auto.properties"
      ],
      "outputs": [
        {
          "output_type": "execute_result",
          "execution_count": 10,
          "data": {
            "text/plain": "{'runTemplate': 'automl_child',\n 'pipeline_id': 'c7af0367625be6ac5c2fecbfc72ed444cb7a2111',\n 'pipeline_spec': '{\"objects\":[{\"spec_class\":\"preproc\",\"class_name\":\"MaxAbsScaler\",\"module\":\"sklearn.preprocessing\",\"param_args\":[],\"param_kwargs\":{},\"prepared_kwargs\":{}},{\"spec_class\":\"sklearn\",\"class_name\":\"XGBoostClassifier\",\"module\":\"automl.client.core.common.model_wrappers\",\"param_args\":[],\"param_kwargs\":{\"tree_method\":\"auto\"},\"prepared_kwargs\":{}}],\"pipeline_id\":\"c7af0367625be6ac5c2fecbfc72ed444cb7a2111\",\"module\":\"sklearn.pipeline\",\"class_name\":\"Pipeline\"}',\n 'training_percent': '100',\n 'predicted_cost': None,\n 'iteration': '1',\n '_aml_system_scenario_identification': 'Remote.Child',\n 'run_preprocessor': 'MaxAbsScaler',\n 'run_algorithm': 'XGBoostClassifier',\n 'model_output_path': 'outputs/model.pkl',\n 'conda_env_data_location': 'aml://artifact/ExperimentRun/dcid.AutoML_b797e176-5f53-48cc-8c3d-3932a649d64a_1/outputs/conda_env_v_1_0_0.yml',\n 'model_data_location': 'aml://artifact/ExperimentRun/dcid.AutoML_b797e176-5f53-48cc-8c3d-3932a649d64a_1/outputs/model.pkl',\n 'model_size_on_disk': '66061611',\n 'scoring_data_location': 'aml://artifact/ExperimentRun/dcid.AutoML_b797e176-5f53-48cc-8c3d-3932a649d64a_1/outputs/scoring_file_v_1_0_0.py',\n 'scoring_data_location_v2': 'aml://artifact/ExperimentRun/dcid.AutoML_b797e176-5f53-48cc-8c3d-3932a649d64a_1/outputs/scoring_file_v_2_0_0.py',\n 'scoring_data_location_pbi': 'aml://artifact/ExperimentRun/dcid.AutoML_b797e176-5f53-48cc-8c3d-3932a649d64a_1/outputs/scoring_file_pbi_v_1_0_0.py',\n 'model_exp_support': 'True',\n 'pipeline_graph_version': '1.0.0',\n 'model_name': 'AutoMLb797e17651',\n 'score': '0.9562089861677892',\n 'score_table': 'NaN',\n 'run_properties': 'copy=True',\n 'pipeline_script': '{\"objects\":[{\"spec_class\":\"preproc\",\"class_name\":\"MaxAbsScaler\",\"module\":\"sklearn.preprocessing\",\"param_args\":[],\"param_kwargs\":{},\"prepared_kwargs\":{}},{\"spec_class\":\"sklearn\",\"class_name\":\"XGBoostClassifier\",\"module\":\"automl.client.core.common.model_wrappers\",\"param_args\":[],\"param_kwargs\":{\"tree_method\":\"auto\"},\"prepared_kwargs\":{}}],\"pipeline_id\":\"c7af0367625be6ac5c2fecbfc72ed444cb7a2111\",\"module\":\"sklearn.pipeline\",\"class_name\":\"Pipeline\"}',\n 'training_type': 'train_valid',\n 'fit_time': '136.314265',\n 'goal': 'AUC_weighted_max',\n 'primary_metric': 'AUC_weighted',\n 'errors': '{}',\n 'onnx_model_resource': '{}',\n 'dependencies_versions': '{\"azureml-dataprep-native\": \"38.0.0\", \"azureml-dataprep\": \"4.0.4\", \"azureml-dataprep-rslex\": \"2.6.3\", \"azureml-automl-core\": \"1.43.0.post2\", \"azureml-mlflow\": \"1.43.0.post1\", \"azureml-train-automl-runtime\": \"1.43.0.post1\", \"azureml-automl-runtime\": \"1.43.0\", \"azureml-training-tabular\": \"1.43.0\", \"azureml-interpret\": \"1.43.0\", \"azureml-train-automl-client\": \"1.43.0\", \"azureml-pipeline-core\": \"1.43.0\", \"azureml-train-restclients-hyperdrive\": \"1.43.0\", \"azureml-responsibleai\": \"1.43.0\", \"azureml-telemetry\": \"1.43.0\", \"azureml-core\": \"1.43.0\", \"azureml-dataset-runtime\": \"1.43.0\", \"azureml-train-core\": \"1.43.0\", \"azureml-defaults\": \"1.43.0\", \"azureml-inference-server-http\": \"0.4.13\"}',\n 'num_cores': '4',\n 'num_logical_cores': '4',\n 'peak_memory_usage': '3493708',\n 'vm_configuration': 'x86_64',\n 'core_hours': '0.04031034444444444',\n 'feature_skus': 'automatedml_sdk_guardrails'}"
          },
          "metadata": {}
        }
      ],
      "execution_count": 10,
      "metadata": {
        "gather": {
          "logged": 1660043903712
        },
        "jupyter": {
          "outputs_hidden": false,
          "source_hidden": false
        },
        "nteract": {
          "transient": {
            "deleting": false
          }
        }
      }
    },
    {
      "cell_type": "code",
      "source": [
        "#TODO: Save the best model\n",
        "mlmodel = best_run_auto.register_model(model_name=best_run_model_name,description='automl model',tags=None)"
      ],
      "outputs": [],
      "execution_count": 29,
      "metadata": {
        "gather": {
          "logged": 1660048606055
        },
        "jupyter": {
          "outputs_hidden": false,
          "source_hidden": false
        },
        "nteract": {
          "transient": {
            "deleting": false
          }
        }
      }
    },
    {
      "cell_type": "code",
      "source": [
        "print(mlmodel)"
      ],
      "outputs": [
        {
          "output_type": "stream",
          "name": "stdout",
          "text": "Model(workspace=Workspace.create(name='wsaug', subscription_id='d18bf486-2340-49bd-9908-fbd241f929a1', resource_group='RGML'), name=AutoMLb797e17651, id=AutoMLb797e17651:2, version=2, tags={}, properties={})\n"
        }
      ],
      "execution_count": 30,
      "metadata": {
        "jupyter": {
          "source_hidden": false,
          "outputs_hidden": false
        },
        "nteract": {
          "transient": {
            "deleting": false
          }
        },
        "gather": {
          "logged": 1660048612941
        }
      }
    },
    {
      "cell_type": "markdown",
      "source": [
        "## Model Deployment\n",
        "\n",
        "Remember you have to deploy only one of the two models you trained but you still need to register both the models. Perform the steps in the rest of this notebook only if you wish to deploy this model.\n",
        "\n",
        "TODO: In the cell below, register the model, create an inference config and deploy the model as a web service."
      ],
      "metadata": {}
    },
    {
      "cell_type": "markdown",
      "source": [
        "The best run is deployed to ACI. The required environment settings are provided in the yml file."
      ],
      "metadata": {
        "nteract": {
          "transient": {
            "deleting": false
          }
        }
      }
    },
    {
      "cell_type": "code",
      "source": [
        "from azureml.automl.core.shared import constants\r\n",
        "from azureml.core import Environment\r\n",
        "\r\n",
        "#best_run_auto.download_file(constants.CONDA_ENV_FILE_PATH, 'automlenv.yml')\r\n",
        "automlenv = Environment.from_conda_specification(name=\"automlenv\", file_path=\"automlenv.yml\")"
      ],
      "outputs": [],
      "execution_count": 5,
      "metadata": {
        "jupyter": {
          "source_hidden": false,
          "outputs_hidden": true
        },
        "nteract": {
          "transient": {
            "deleting": false
          }
        },
        "gather": {
          "logged": 1660284195779
        }
      }
    },
    {
      "cell_type": "code",
      "source": [
        "from azureml.core.model import InferenceConfig\r\n",
        "from azureml.core.compute import ComputeTarget\r\n",
        "from azureml.core.webservice import AciWebservice\r\n",
        "from azureml.core.model import Model\r\n",
        "\r\n",
        "classifier_inference_config = InferenceConfig(source_directory = '.',\r\n",
        "                                              entry_script='score.py',\r\n",
        "                                              environment=automlenv)\r\n",
        "                                              \r\n",
        "\r\n",
        "classifier_deploy_config = AciWebservice.deploy_configuration(cpu_cores = 1,\r\n",
        "                                                              memory_gb = 1, auth_enabled=True)\r\n",
        "\r\n",
        "service = Model.deploy(workspace=ws,\r\n",
        "                       name = 'automlclassifierservice',\r\n",
        "                       models = [mlmodel],\r\n",
        "                       inference_config = classifier_inference_config,\r\n",
        "                       deployment_config = classifier_deploy_config                       \r\n",
        "                       )\r\n",
        "service.wait_for_deployment(show_output = True)"
      ],
      "outputs": [
        {
          "output_type": "stream",
          "name": "stdout",
          "text": "Tips: You can try get_logs(): https://aka.ms/debugimage#dockerlog or local deployment: https://aka.ms/debugimage#debug-locally to debug if deployment takes longer than 10 minutes.\nRunning\n2022-08-12 06:03:39+00:00 Creating Container Registry if not exists.\n2022-08-12 06:03:42+00:00 Use the existing image.\n2022-08-12 06:03:42+00:00 Generating deployment configuration.\n2022-08-12 06:03:44+00:00 Submitting deployment to compute..\n2022-08-12 06:03:54+00:00 Checking the status of deployment automlclassifierservice..\n2022-08-12 06:06:52+00:00 Checking the status of inference endpoint automlclassifierservice.\nSucceeded\nACI service creation operation finished, operation \"Succeeded\"\n"
        }
      ],
      "execution_count": 6,
      "metadata": {
        "gather": {
          "logged": 1660284450751
        },
        "jupyter": {
          "outputs_hidden": false,
          "source_hidden": false
        },
        "nteract": {
          "transient": {
            "deleting": false
          }
        }
      }
    },
    {
      "cell_type": "markdown",
      "source": [
        "TODO: In the cell below, send a request to the web service you deployed to test it."
      ],
      "metadata": {
        "collapsed": true,
        "gather": {
          "logged": 1598431657736
        },
        "jupyter": {
          "outputs_hidden": false,
          "source_hidden": false
        },
        "nteract": {
          "transient": {
            "deleting": false
          }
        }
      }
    },
    {
      "cell_type": "code",
      "source": [
        "print(service.scoring_uri)"
      ],
      "outputs": [
        {
          "output_type": "stream",
          "name": "stdout",
          "text": "http://bd7a8fbe-c178-4141-a7be-bcbba4fb052d.centralindia.azurecontainer.io/score\n"
        }
      ],
      "execution_count": 7,
      "metadata": {
        "jupyter": {
          "source_hidden": false,
          "outputs_hidden": false
        },
        "nteract": {
          "transient": {
            "deleting": false
          }
        },
        "gather": {
          "logged": 1660284612130
        }
      }
    },
    {
      "cell_type": "code",
      "source": [
        "from azureml.core.workspace import Workspace\r\n",
        "import joblib\r\n",
        "from azureml.core import Datastore\r\n",
        "# import pandas as pd\r\n",
        "# from azureml.core.run import Run\r\n",
        "from azureml.data.dataset_factory import TabularDatasetFactory\r\n",
        "from azureml.core.webservice import Webservice\r\n",
        "import numpy as np\r\n",
        "import requests\r\n",
        "import json\r\n",
        " \r\n",
        "data={\"data\":\r\n",
        "       [{\r\n",
        "            \"account_age_days\":4946,\r\n",
        "\"transaction_amt\":2905,\r\n",
        "\"transaction_adj_amt\":39,\r\n",
        "\"historic_velocity\":4241,\r\n",
        "\"ip_address\":\"58.66.111.116\",\r\n",
        "\"user_agent\":\"Mozilla/5.0 (Windows; U; Windows NT 10.0) AppleWebKit/535.17.7 (KHTML, like Gecko) Version/5.0.5 Safari/535.17.7\",\r\n",
        "\"email_domain\":\"price-jackson.info\",\r\n",
        "\"phone_number\":\"820.940.5485\",\r\n",
        "\"billing_city\":\"East Amandaborough\",\r\n",
        "\"billing_postal\":89082,\r\n",
        "\"billing_state\":\"Indiana\",\r\n",
        "\"card_bin\":49836,\r\n",
        "\"currency\":\"usd\",\r\n",
        "\"cvv\":\"W\",\r\n",
        "\"signature_image\":\"W\",\r\n",
        "\"transaction_type\":\"W\",\r\n",
        "\"transaction_env\":\"X\",\r\n",
        "\"EVENT_TIMESTAMP\":\"12\",\r\n",
        "\"applicant_name\":\"Amy Alvarado\",\r\n",
        "\"billing_address\":\"7874 Morris Junctions Apt. 683\",\r\n",
        "\"merchant_id\":\"707-23-1553\",\r\n",
        "\"locale\":\"cs_CZ\",\r\n",
        "\"tranaction_initiate\":\"F\",\r\n",
        "\"days_since_last_logon\":26,\r\n",
        "\"inital_amount\":9468\r\n",
        "          }\r\n",
        "      ]\r\n",
        "    }\r\n",
        "# Convert to JSON string\r\n",
        "input_data = json.dumps(data)\r\n",
        "\r\n",
        "# Set the content type\r\n",
        "headers = {'Content-Type': 'application/json'}\r\n",
        "# If authentication is enabled, set the authorization header\r\n",
        "key='Gd7kbtHDH0bQqqsncAO25fqY7clBUXOg'\r\n",
        "headers['Authorization'] = f'Bearer {key}'\r\n",
        "# Make the request and display the response\r\n",
        "resp = requests.post(service.scoring_uri, input_data, headers=headers)\r\n",
        "print(resp.text)\r\n"
      ],
      "outputs": [
        {
          "output_type": "stream",
          "name": "stdout",
          "text": "\"{\\\"result\\\": [\\\"legit\\\"]}\"\n"
        }
      ],
      "execution_count": 10,
      "metadata": {
        "jupyter": {
          "source_hidden": false,
          "outputs_hidden": false
        },
        "nteract": {
          "transient": {
            "deleting": false
          }
        },
        "gather": {
          "logged": 1660285276222
        }
      }
    },
    {
      "cell_type": "markdown",
      "source": [
        "TODO: In the cell below, print the logs of the web service and delete the service"
      ],
      "metadata": {
        "collapsed": true,
        "gather": {
          "logged": 1598432765711
        },
        "jupyter": {
          "outputs_hidden": false,
          "source_hidden": false
        },
        "nteract": {
          "transient": {
            "deleting": false
          }
        }
      }
    },
    {
      "cell_type": "code",
      "source": [
        "print(service.get_logs())"
      ],
      "outputs": [
        {
          "output_type": "stream",
          "name": "stdout",
          "text": "/bin/bash: /azureml-envs/azureml_01cff5d1570c760e840399cd816552f4/lib/libtinfo.so.6: no version information available (required by /bin/bash)\n/bin/bash: /azureml-envs/azureml_01cff5d1570c760e840399cd816552f4/lib/libtinfo.so.6: no version information available (required by /bin/bash)\n/bin/bash: /azureml-envs/azureml_01cff5d1570c760e840399cd816552f4/lib/libtinfo.so.6: no version information available (required by /bin/bash)\n/bin/bash: /azureml-envs/azureml_01cff5d1570c760e840399cd816552f4/lib/libtinfo.so.6: no version information available (required by /bin/bash)\n2022-08-12T06:06:33,256783200+00:00 - rsyslog/run \n2022-08-12T06:06:33,265218000+00:00 - iot-server/run \nbash: /azureml-envs/azureml_01cff5d1570c760e840399cd816552f4/lib/libtinfo.so.6: no version information available (required by bash)\n2022-08-12T06:06:33,288083100+00:00 - gunicorn/run \n2022-08-12T06:06:33,290201500+00:00 - nginx/run \n2022-08-12T06:06:33,295901000+00:00 | gunicorn/run | \n2022-08-12T06:06:33,317681800+00:00 | gunicorn/run | ###############################################\n2022-08-12T06:06:33,327065900+00:00 | gunicorn/run | AzureML Container Runtime Information\n2022-08-12T06:06:33,361951300+00:00 | gunicorn/run | ###############################################\n2022-08-12T06:06:33,388038200+00:00 | gunicorn/run | \n2022-08-12T06:06:33,403879700+00:00 | gunicorn/run | \n2022-08-12T06:06:33,410956500+00:00 | gunicorn/run | PATH environment variable: /azureml-envs/azureml_01cff5d1570c760e840399cd816552f4/bin:/opt/miniconda/bin:/usr/local/sbin:/usr/local/bin:/usr/sbin:/usr/bin:/sbin:/bin\n2022-08-12T06:06:33,422099300+00:00 | gunicorn/run | PYTHONPATH environment variable: \n2022-08-12T06:06:33,447689200+00:00 | gunicorn/run | \n2022-08-12T06:06:33,462377500+00:00 | gunicorn/run | Pip Dependencies (before dynamic installation)\n\n/bin/bash: /azureml-envs/azureml_01cff5d1570c760e840399cd816552f4/lib/libtinfo.so.6: no version information available (required by /bin/bash)\nEdgeHubConnectionString and IOTEDGE_IOTHUBHOSTNAME are not set. Exiting...\n2022-08-12T06:06:33,733779500+00:00 - iot-server/finish 1 0\n2022-08-12T06:06:33,735518400+00:00 - Exit code 1 is normal. Not restarting iot-server.\nadal==1.2.7\napplicationinsights==0.11.10\nargcomplete==2.0.0\narviz @ file:///tmp/build/80754af9/arviz_1614019183254/work\nattrs==22.1.0\nazure-common==1.1.28\nazure-core==1.25.0\nazure-graphrbac==0.61.1\nazure-identity==1.7.0\nazure-mgmt-authorization==2.0.0\nazure-mgmt-containerregistry==10.0.0\nazure-mgmt-core==1.3.0\nazure-mgmt-keyvault==10.0.0\nazure-mgmt-resource==21.1.0\nazure-mgmt-storage==20.0.0\nazure-storage-blob==12.9.0\nazure-storage-queue==12.4.0\nazureml-automl-core==1.43.0.post2\nazureml-automl-runtime==1.43.0\nazureml-core==1.43.0\nazureml-dataprep==4.0.4\nazureml-dataprep-native==38.0.0\nazureml-dataprep-rslex==2.6.3\nazureml-dataset-runtime==1.43.0.post2\nazureml-defaults==1.43.0\nazureml-inference-server-http==0.4.14\nazureml-interpret==1.43.0\nazureml-mlflow==1.43.0.post1\nazureml-telemetry==1.43.0\nazureml-train-automl-client==1.43.0\nazureml-train-automl-runtime==1.43.0.post1\nazureml-train-core==1.43.0\nazureml-train-restclients-hyperdrive==1.43.0\nazureml-training-tabular==1.43.0\nbackports.tempfile==1.0\nbackports.weakref==1.0.post1\nbcrypt==3.2.2\nbokeh==2.4.3\nboto==2.49.0\nboto3==1.20.19\nbotocore==1.23.19\ncachetools==5.2.0\ncertifi @ file:///opt/conda/conda-bld/certifi_1655968806487/work/certifi\ncffi==1.15.1\ncftime @ file:///tmp/build/80754af9/cftime_1638345281172/work\ncharset-normalizer==2.1.0\nclick==7.1.2\ncloudpickle==2.1.0\nconfigparser==3.7.4\ncontextlib2==21.6.0\nconvertdate @ file:///tmp/build/80754af9/convertdate_1634070773133/work\ncryptography==37.0.4\ncycler @ file:///tmp/build/80754af9/cycler_1637851556182/work\nCython==0.29.17\ndask==2.30.0\ndatabricks-cli==0.17.0\ndataclasses==0.6\ndill==0.3.5.1\ndistributed==2.30.1\ndistro==1.7.0\ndocker==5.0.3\ndotnetcore2==3.1.23\nentrypoints==0.4\nephem @ file:///tmp/build/80754af9/ephem_1638960312619/work\nfbprophet @ file:///home/conda/feedstock_root/build_artifacts/fbprophet_1599365534439/work\nfire==0.4.0\nFlask==1.0.3\nflatbuffers==2.0\nfonttools==4.25.0\nfsspec==2022.7.1\nfusepy==3.0.1\ngensim==3.8.3\ngitdb==4.0.9\nGitPython==3.1.27\ngoogle-api-core==2.8.2\ngoogle-auth==2.10.0\ngoogleapis-common-protos==1.56.4\ngunicorn==20.1.0\nHeapDict==1.0.1\nholidays @ file:///home/conda/feedstock_root/build_artifacts/holidays_1595448845196/work\nhumanfriendly==10.0\nidna==3.3\nimportlib-metadata==4.12.0\nimportlib-resources==5.9.0\ninference-schema==1.3.0\ninterpret-community==0.26.0\ninterpret-core==0.2.7\nisodate==0.6.1\nitsdangerous==1.1.0\njeepney==0.8.0\nJinja2==2.11.2\njmespath==0.10.0\njoblib==0.14.1\njson-logging-py==0.2\njsonpickle==2.2.0\njsonschema==4.9.1\nkeras2onnx==1.6.0\nkiwisolver @ file:///opt/conda/conda-bld/kiwisolver_1653292039266/work\nknack==0.9.0\nkorean-lunar-calendar @ file:///tmp/build/80754af9/korean_lunar_calendar_1634063020401/work\nlightgbm==3.2.1\nllvmlite==0.36.0\nlocket==1.0.0\nLunarCalendar @ file:///tmp/build/80754af9/lunarcalendar_1646383991234/work\nMarkupSafe==2.0.1\nmatplotlib @ file:///tmp/build/80754af9/matplotlib-suite_1634667019719/work\nmkl-fft==1.3.0\nmkl-random==1.1.0\nmkl-service==2.3.0\nml-wrappers==0.2.0\nmlflow-skinny==1.27.0\nmsal==1.18.0\nmsal-extensions==0.3.1\nmsgpack==1.0.4\nmsrest==0.6.21\nmsrestazure==0.6.4\nmunkres==1.1.4\nndg-httpsclient==0.5.1\nnetCDF4==1.5.7\nnimbusml==1.8.0\nnumba==0.53.1\nnumpy==1.18.5\noauthlib==3.2.0\nonnx==1.7.0\nonnxconverter-common==1.6.0\nonnxmltools==1.4.1\nonnxruntime==1.8.1\nopencensus==0.11.0\nopencensus-context==0.1.3\nopencensus-ext-azure==1.1.6\npackaging @ file:///tmp/build/80754af9/packaging_1637314298585/work\npandas==1.1.5\nparamiko==2.11.0\npartd==1.2.0\npathspec==0.9.0\npatsy==0.5.2\nPillow==9.0.1\npkginfo==1.8.3\npkgutil_resolve_name==1.3.10\npmdarima==1.7.1\nportalocker==2.5.1\nprotobuf==3.20.1\npsutil @ file:///tmp/build/80754af9/psutil_1612298016854/work\npyarrow==3.0.0\npyasn1==0.4.8\npyasn1-modules==0.2.8\npycparser==2.21\nPygments==2.12.0\nPyJWT==2.4.0\nPyMeeus @ file:///tmp/build/80754af9/pymeeus_1634069098549/work\nPyNaCl==1.5.0\npyOpenSSL==22.0.0\npyparsing @ file:///tmp/build/80754af9/pyparsing_1635766073266/work\npyrsistent==0.18.1\nPySocks==1.7.1\npystan @ file:///tmp/build/80754af9/pystan_1613565226242/work\npython-dateutil @ file:///tmp/build/80754af9/python-dateutil_1626374649649/work\npytz @ file:///opt/conda/conda-bld/pytz_1654762638606/work\nPyYAML==6.0\nrequests==2.28.1\nrequests-oauthlib==1.3.1\nrsa==4.9\ns3transfer==0.5.2\nscikit-learn==0.22.1\nscipy==1.5.3\nSecretStorage==3.3.2\nshap==0.39.0\nsix @ file:///tmp/build/80754af9/six_1644875935023/work\nskl2onnx==1.4.9\nsklearn-pandas==1.7.0\nslicer==0.0.7\nsmart-open==1.9.0\nsmmap==5.0.0\nsortedcontainers==2.4.0\nstatsmodels==0.11.1\ntabulate==0.8.10\ntblib==1.7.0\ntermcolor==1.1.0\ntoolz==0.12.0\ntornado @ file:///tmp/build/80754af9/tornado_1606942283357/work\ntqdm @ file:///opt/conda/conda-bld/tqdm_1650891076910/work\ntyping_extensions @ file:///opt/conda/conda-bld/typing_extensions_1647553014482/work\nurllib3==1.26.9\nwebsocket-client==1.3.3\nWerkzeug==1.0.1\nwrapt==1.12.1\nxarray @ file:///opt/conda/conda-bld/xarray_1639166117697/work\nxgboost==1.3.3\nzict==2.2.0\nzipp==3.8.1\n\n2022-08-12T06:06:35,527781400+00:00 | gunicorn/run | \n2022-08-12T06:06:35,530505800+00:00 | gunicorn/run | ###############################################\n2022-08-12T06:06:35,541142500+00:00 | gunicorn/run | AzureML Inference Server\n2022-08-12T06:06:35,544329200+00:00 | gunicorn/run | ###############################################\n2022-08-12T06:06:35,546042700+00:00 | gunicorn/run | \n2022-08-12T06:06:35,548752900+00:00 | gunicorn/run | \n2022-08-12T06:06:35,554378800+00:00 | gunicorn/run | Starting HTTP server\n2022-08-12T06:06:35,557577600+00:00 | gunicorn/run | \nStarting gunicorn 20.1.0\nListening at: http://127.0.0.1:31311 (76)\nUsing worker: sync\nworker timeout is set to 300\nBooting worker with pid: 122\nSPARK_HOME not set. Skipping PySpark Initialization.\nInitializing logger\n2022-08-12 06:06:37,937 | root | INFO | Starting up app insights client\nlogging socket was found. logging is available.\nlogging socket was found. logging is available.\n2022-08-12 06:06:37,938 | root | INFO | Starting up request id generator\n2022-08-12 06:06:37,938 | root | INFO | Starting up app insight hooks\n2022-08-12 06:06:37,938 | root | INFO | Invoking user's init function\n2022-08-12 06:07:17,300 | root | INFO | Users's init has completed successfully\n2022-08-12 06:07:17,309 | root | INFO | Skipping middleware: dbg_model_info as it's not enabled.\n2022-08-12 06:07:17,309 | root | INFO | Skipping middleware: dbg_resource_usage as it's not enabled.\nGenerating swagger file: /tmp/tmpyq6rsmgy\n2022-08-12 06:07:17,315 | root | INFO | Scoring timeout is found from os.environ: 60000 ms\n2022-08-12 06:07:17,369 | root | INFO | 200\n127.0.0.1 - - [12/Aug/2022:06:07:17 +0000] \"GET /swagger.json HTTP/1.0\" 200 4351 \"-\" \"Go-http-client/1.1\"\n2022-08-12 06:07:28,568 | root | INFO | 200\n127.0.0.1 - - [12/Aug/2022:06:07:28 +0000] \"GET /swagger.json HTTP/1.0\" 200 4351 \"-\" \"Go-http-client/1.1\"\n2022-08-12 06:07:28,591 | root | INFO | 200\n127.0.0.1 - - [12/Aug/2022:06:07:28 +0000] \"GET /swagger.json HTTP/1.0\" 200 4351 \"-\" \"Go-http-client/1.1\"\n2022-08-12 06:07:32,022 | root | INFO | 200\n127.0.0.1 - - [12/Aug/2022:06:07:32 +0000] \"GET /swagger.json HTTP/1.0\" 200 4351 \"-\" \"Go-http-client/1.1\"\n2022-08-12 06:07:32,757 | root | INFO | 200\n127.0.0.1 - - [12/Aug/2022:06:07:32 +0000] \"GET /swagger.json HTTP/1.0\" 200 4351 \"-\" \"Go-http-client/1.1\"\n2022-08-12 06:07:33,084 | root | INFO | 200\n127.0.0.1 - - [12/Aug/2022:06:07:33 +0000] \"GET /swagger.json HTTP/1.0\" 200 4351 \"-\" \"Go-http-client/1.1\"\n2022-08-12 06:07:35,152 | root | INFO | Validation Request Content-Type\n2022-08-12 06:07:35,152 | root | INFO | Scoring Timer is set to 60.0 seconds\n2022-08-12 06:07:38,021 | root | INFO | 200\n127.0.0.1 - - [12/Aug/2022:06:07:38 +0000] \"POST /score?verbose=true HTTP/1.0\" 200 27 \"-\" \"Go-http-client/1.1\"\n2022-08-12 06:08:30,511 | root | INFO | Validation Request Content-Type\n2022-08-12 06:08:30,517 | root | ERROR | Encountered Exception: Traceback (most recent call last):\n  File \"/azureml-envs/azureml_01cff5d1570c760e840399cd816552f4/lib/python3.7/site-packages/flask/wrappers.py\", line 74, in get_json\n    rv = json.loads(data)\n  File \"/azureml-envs/azureml_01cff5d1570c760e840399cd816552f4/lib/python3.7/site-packages/flask/json/__init__.py\", line 236, in loads\n    return _json.loads(s, **kwargs)\n  File \"/azureml-envs/azureml_01cff5d1570c760e840399cd816552f4/lib/python3.7/json/__init__.py\", line 361, in loads\n    return cls(**kw).decode(s)\n  File \"/azureml-envs/azureml_01cff5d1570c760e840399cd816552f4/lib/python3.7/json/decoder.py\", line 337, in decode\n    obj, end = self.raw_decode(s, idx=_w(s, 0).end())\n  File \"/azureml-envs/azureml_01cff5d1570c760e840399cd816552f4/lib/python3.7/json/decoder.py\", line 353, in raw_decode\n    obj, end = self.scan_once(s, idx)\njson.decoder.JSONDecodeError: Expecting ',' delimiter: line 14 column 1 (char 414)\n\nDuring handling of the above exception, another exception occurred:\n\nTraceback (most recent call last):\n  File \"/azureml-envs/azureml_01cff5d1570c760e840399cd816552f4/lib/python3.7/site-packages/flask/app.py\", line 1832, in full_dispatch_request\n    rv = self.dispatch_request()\n  File \"/azureml-envs/azureml_01cff5d1570c760e840399cd816552f4/lib/python3.7/site-packages/flask/app.py\", line 1818, in dispatch_request\n    return self.view_functions[rule.endpoint](**req.view_args)\n  File \"/var/azureml-server/routes.py\", line 263, in score_realtime\n    service_input = request.get_json()\n  File \"/azureml-envs/azureml_01cff5d1570c760e840399cd816552f4/lib/python3.7/site-packages/flask/wrappers.py\", line 82, in get_json\n    rv = self.on_json_loading_failed(e)\n  File \"/azureml-envs/azureml_01cff5d1570c760e840399cd816552f4/lib/python3.7/site-packages/flask/wrappers.py\", line 108, in on_json_loading_failed\n    raise BadRequest()\nwerkzeug.exceptions.BadRequest: 400 Bad Request: The browser (or proxy) sent a request that this server could not understand.\n\n2022-08-12 06:08:30,518 | root | INFO | 500\n127.0.0.1 - - [12/Aug/2022:06:08:30 +0000] \"POST /score?verbose=true HTTP/1.0\" 500 2036 \"-\" \"Go-http-client/1.1\"\n2022-08-12 06:08:43,442 | root | INFO | Validation Request Content-Type\n2022-08-12 06:08:43,443 | root | ERROR | Encountered Exception: Traceback (most recent call last):\n  File \"/azureml-envs/azureml_01cff5d1570c760e840399cd816552f4/lib/python3.7/site-packages/flask/wrappers.py\", line 74, in get_json\n    rv = json.loads(data)\n  File \"/azureml-envs/azureml_01cff5d1570c760e840399cd816552f4/lib/python3.7/site-packages/flask/json/__init__.py\", line 236, in loads\n    return _json.loads(s, **kwargs)\n  File \"/azureml-envs/azureml_01cff5d1570c760e840399cd816552f4/lib/python3.7/json/__init__.py\", line 361, in loads\n    return cls(**kw).decode(s)\n  File \"/azureml-envs/azureml_01cff5d1570c760e840399cd816552f4/lib/python3.7/json/decoder.py\", line 337, in decode\n    obj, end = self.raw_decode(s, idx=_w(s, 0).end())\n  File \"/azureml-envs/azureml_01cff5d1570c760e840399cd816552f4/lib/python3.7/json/decoder.py\", line 353, in raw_decode\n    obj, end = self.scan_once(s, idx)\njson.decoder.JSONDecodeError: Expecting ',' delimiter: line 28 column 1 (char 783)\n\nDuring handling of the above exception, another exception occurred:\n\nTraceback (most recent call last):\n  File \"/azureml-envs/azureml_01cff5d1570c760e840399cd816552f4/lib/python3.7/site-packages/flask/app.py\", line 1832, in full_dispatch_request\n    rv = self.dispatch_request()\n  File \"/azureml-envs/azureml_01cff5d1570c760e840399cd816552f4/lib/python3.7/site-packages/flask/app.py\", line 1818, in dispatch_request\n    return self.view_functions[rule.endpoint](**req.view_args)\n  File \"/var/azureml-server/routes.py\", line 263, in score_realtime\n    service_input = request.get_json()\n  File \"/azureml-envs/azureml_01cff5d1570c760e840399cd816552f4/lib/python3.7/site-packages/flask/wrappers.py\", line 82, in get_json\n    rv = self.on_json_loading_failed(e)\n  File \"/azureml-envs/azureml_01cff5d1570c760e840399cd816552f4/lib/python3.7/site-packages/flask/wrappers.py\", line 108, in on_json_loading_failed\n    raise BadRequest()\nwerkzeug.exceptions.BadRequest: 400 Bad Request: The browser (or proxy) sent a request that this server could not understand.\n\n2022-08-12 06:08:43,446 | root | INFO | 500\n127.0.0.1 - - [12/Aug/2022:06:08:43 +0000] \"POST /score?verbose=true HTTP/1.0\" 500 2036 \"-\" \"Go-http-client/1.1\"\n2022-08-12 06:08:59,852 | root | INFO | Validation Request Content-Type\n2022-08-12 06:08:59,852 | root | INFO | Scoring Timer is set to 60.0 seconds\n2022-08-12 06:09:03,461 | root | INFO | 200\n127.0.0.1 - - [12/Aug/2022:06:09:03 +0000] \"POST /score?verbose=true HTTP/1.0\" 200 27 \"-\" \"Go-http-client/1.1\"\n2022-08-12 06:09:39,321 | root | INFO | 200\n127.0.0.1 - - [12/Aug/2022:06:09:39 +0000] \"GET /swagger.json HTTP/1.0\" 200 4351 \"-\" \"Go-http-client/1.1\"\n2022-08-12 06:09:41,532 | root | INFO | 200\n127.0.0.1 - - [12/Aug/2022:06:09:41 +0000] \"GET /swagger.json HTTP/1.0\" 200 4351 \"-\" \"Go-http-client/1.1\"\n2022-08-12 06:12:20,666 | root | INFO | Validation Request Content-Type\n2022-08-12 06:12:20,667 | root | INFO | Scoring Timer is set to 60.0 seconds\n2022-08-12 06:12:23,004 | root | INFO | 200\n127.0.0.1 - - [12/Aug/2022:06:12:23 +0000] \"POST /score HTTP/1.0\" 200 27 \"-\" \"python-requests/2.27.1\"\n2022-08-12 06:15:48,929 | root | INFO | Validation Request Content-Type\n2022-08-12 06:15:48,939 | root | INFO | Scoring Timer is set to 60.0 seconds\n2022-08-12 06:15:51,213 | root | INFO | 200\n127.0.0.1 - - [12/Aug/2022:06:15:51 +0000] \"POST /score HTTP/1.0\" 200 27 \"-\" \"python-requests/2.27.1\"\n2022-08-12 06:17:04,670 | root | INFO | Validation Request Content-Type\n2022-08-12 06:17:04,674 | root | INFO | Scoring Timer is set to 60.0 seconds\n2022-08-12 06:17:06,953 | root | INFO | 200\n127.0.0.1 - - [12/Aug/2022:06:17:06 +0000] \"POST /score HTTP/1.0\" 200 27 \"-\" \"python-requests/2.27.1\"\n2022-08-12 06:21:16,229 | root | INFO | Validation Request Content-Type\n2022-08-12 06:21:16,231 | root | INFO | Scoring Timer is set to 60.0 seconds\n2022-08-12 06:21:18,460 | root | INFO | 200\n127.0.0.1 - - [12/Aug/2022:06:21:18 +0000] \"POST /score HTTP/1.0\" 200 27 \"-\" \"python-requests/2.27.1\"\n\n"
        }
      ],
      "execution_count": 12,
      "metadata": {
        "jupyter": {
          "outputs_hidden": false,
          "source_hidden": false
        },
        "nteract": {
          "transient": {
            "deleting": false
          }
        },
        "gather": {
          "logged": 1660285614564
        }
      }
    },
    {
      "cell_type": "markdown",
      "source": [
        "**Submission Checklist**\n",
        "- I have registered the model.\n",
        "- I have deployed the model with the best accuracy as a webservice.\n",
        "- I have tested the webservice by sending a request to the model endpoint.\n",
        "- I have deleted the webservice and shutdown all the computes that I have used.\n",
        "- I have taken a screenshot showing the model endpoint as active.\n",
        "- The project includes a file containing the environment details.\n"
      ],
      "metadata": {}
    },
    {
      "cell_type": "code",
      "source": [
        "service.delete()"
      ],
      "outputs": [],
      "execution_count": 13,
      "metadata": {
        "jupyter": {
          "source_hidden": false,
          "outputs_hidden": false
        },
        "nteract": {
          "transient": {
            "deleting": false
          }
        },
        "gather": {
          "logged": 1660287274441
        }
      }
    }
  ],
  "metadata": {
    "kernel_info": {
      "name": "python38-azureml"
    },
    "kernelspec": {
      "name": "python38-azureml",
      "language": "python",
      "display_name": "Python 3.8 - AzureML"
    },
    "language_info": {
      "name": "python",
      "version": "3.8.5",
      "mimetype": "text/x-python",
      "codemirror_mode": {
        "name": "ipython",
        "version": 3
      },
      "pygments_lexer": "ipython3",
      "nbconvert_exporter": "python",
      "file_extension": ".py"
    },
    "nteract": {
      "version": "nteract-front-end@1.0.0"
    },
    "microsoft": {
      "host": {
        "AzureML": {
          "notebookHasBeenCompleted": true
        }
      }
    }
  },
  "nbformat": 4,
  "nbformat_minor": 2
}